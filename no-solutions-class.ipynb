{
 "cells": [
  {
   "cell_type": "markdown",
   "metadata": {},
   "source": [
    "## Exercises on comprehensions"
   ]
  },
  {
   "cell_type": "markdown",
   "metadata": {},
   "source": [
    "Consider the following list: `numbers`. Create a new list with all the squares of each element of that list. Do this with list comprehension and for loops. "
   ]
  },
  {
   "cell_type": "code",
   "execution_count": 1,
   "metadata": {},
   "outputs": [
    {
     "data": {
      "text/plain": [
       "[1, 4, 9, 16, 25]"
      ]
     },
     "execution_count": 1,
     "metadata": {},
     "output_type": "execute_result"
    }
   ],
   "source": [
    "numbers = [1, 2, 3, 4, 5]\n",
    "\n",
    "# Code here"
   ]
  },
  {
   "cell_type": "markdown",
   "metadata": {},
   "source": [
    "Consider the following list: `all_num`. Create a new list with only the even number and another list with the odd numbers. Do this with list comprehension and for loops. "
   ]
  },
  {
   "cell_type": "code",
   "execution_count": 2,
   "metadata": {},
   "outputs": [
    {
     "data": {
      "text/plain": [
       "[12, 14, 14, 20]"
      ]
     },
     "execution_count": 2,
     "metadata": {},
     "output_type": "execute_result"
    }
   ],
   "source": [
    "all_num = [12, 23, 14, 14, 15, 19, 20]\n",
    "\n",
    "# Code here"
   ]
  },
  {
   "cell_type": "code",
   "execution_count": 3,
   "metadata": {},
   "outputs": [
    {
     "data": {
      "text/plain": [
       "[23, 15, 19]"
      ]
     },
     "execution_count": 3,
     "metadata": {},
     "output_type": "execute_result"
    }
   ],
   "source": [
    "# Code here"
   ]
  },
  {
   "cell_type": "markdown",
   "metadata": {},
   "source": [
    "Consider the following list: `random_numbers`. Create a new list that goes to each element of the `random_numbers` and does the following: if it is bigger than 15, assign a 1, otherwise assign a 0. Do this with list comprehension and for loops."
   ]
  },
  {
   "cell_type": "code",
   "execution_count": 15,
   "metadata": {},
   "outputs": [
    {
     "data": {
      "text/plain": [
       "[0, 1, 0, 0, 0, 1, 1]"
      ]
     },
     "execution_count": 15,
     "metadata": {},
     "output_type": "execute_result"
    }
   ],
   "source": [
    "random_numbers = [12, 23, 14, 14, 15, 19, 20]\n",
    "\n",
    "# Code here"
   ]
  },
  {
   "cell_type": "markdown",
   "metadata": {},
   "source": [
    "Consider the following dictionary. Generate a new one where you clean the keys to be all lowercase. You should do this using a for loop and a dictionary comprehension. "
   ]
  },
  {
   "cell_type": "code",
   "execution_count": 4,
   "metadata": {},
   "outputs": [
    {
     "data": {
      "text/plain": [
       "{'bananas': 1, 'cooffe': 1, 'cookies': 99999, 'mango': 3}"
      ]
     },
     "execution_count": 4,
     "metadata": {},
     "output_type": "execute_result"
    }
   ],
   "source": [
    "d = {'Mango': 3, 'BananAs': 1, 'CoofFe': 1, 'Cookies': 99999}\n",
    "\n",
    "# Code here\n"
   ]
  },
  {
   "cell_type": "markdown",
   "metadata": {},
   "source": [
    "Do the same as asked before but now only clean for values that are higher than 3, otherwise, make the key uppercase. "
   ]
  },
  {
   "cell_type": "code",
   "execution_count": 36,
   "metadata": {
    "scrolled": true
   },
   "outputs": [
    {
     "data": {
      "text/plain": [
       "{'BANANAS': 1, 'COOFFE': 1, 'cookies': 99999, 'mango': 3}"
      ]
     },
     "execution_count": 36,
     "metadata": {},
     "output_type": "execute_result"
    }
   ],
   "source": [
    "# Code here"
   ]
  },
  {
   "cell_type": "markdown",
   "metadata": {},
   "source": [
    "### Python challenge"
   ]
  },
  {
   "cell_type": "markdown",
   "metadata": {},
   "source": [
    "> Your goal is to allow users to create different bank accounts. Think of this as an app developer where you must allow people to do different set ups of their bank accounts and provide them some basic functionalities.\n",
    "\n",
    "All bank accounts instances need to have a balance that is defined by the user, so this\n",
    "should be an instance variable. Your bank account must have the following functionalities:\n",
    "* withdraw, where you should be able to specify the amount you're withdrawing\n",
    "* deposit, where you should be able to specify the amount you're depositing\n",
    "* show balance, where you show the user the balance of his/her bank account.\n",
    "* transfer money, that requires a phone number and an amount.\n",
    "For transfering money you can use an additional function, transaction, that you don't need to specify. Keep it abstract, just use pass and describe what the function would do.\n",
    "\n",
    "As you are not in the business of traditional banking, you will also create an object that is\n",
    "an AppBank.\n",
    "\n",
    "* Your AppBank should inherit from the Bank class and have a new instance variable: `history`. This is where all the transaction that happen within your account should be registered. \n",
    "\n",
    "Your bankApp will have the following methods: \n",
    "* **display**: should receive the value to display and create a new instance variable with it. It should also set the balance to \"This information is not available anymore\" \n",
    "* **donate_money**: This donate money must have an organisation iban and amount defined by the user. You should create a separate function that handles iban to phone number and use the transaction function you defined before to make the donation.\n",
    "* **history**: This is where you do all the actionables necessary to save every transaction and plot the current history of your account.\n",
    "\n",
    "**Hint:** you might have to add functionalities to **withdraw** and **deposit** methods."
   ]
  },
  {
   "cell_type": "code",
   "execution_count": null,
   "metadata": {},
   "outputs": [],
   "source": [
    "# Define transaction function\n",
    "\n",
    "# define iban to iphone function\n",
    "\n",
    "class Bank:\n",
    "    pass\n",
    "\n",
    "class AppBank(Bank):\n",
    "    pass"
   ]
  }
 ],
 "metadata": {
  "kernelspec": {
   "display_name": "Python 3",
   "language": "python",
   "name": "python3"
  },
  "language_info": {
   "codemirror_mode": {
    "name": "ipython",
    "version": 3
   },
   "file_extension": ".py",
   "mimetype": "text/x-python",
   "name": "python",
   "nbconvert_exporter": "python",
   "pygments_lexer": "ipython3",
   "version": "3.6.4"
  }
 },
 "nbformat": 4,
 "nbformat_minor": 2
}
