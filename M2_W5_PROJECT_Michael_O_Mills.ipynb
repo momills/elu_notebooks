{
 "cells": [
  {
   "cell_type": "markdown",
   "metadata": {},
   "source": [
    "# Visualizing Data for Different Teams: London Bike Sharing System\n",
    "\n",
    "### _by Michael Odartei Mills_\n",
    "\n",
    "**Business Case**\n",
    "\n",
    ">\"The concept of bike sharing is to provide free or **affordable** access to bicycles for short-distance trips in an urban area as an alternative to motorised public transport or private vehicles, thereby reducing congestion, noise, and air pollution.\" ~ _[Wikipedea](https://en.wikipedia.org/wiki/Bicycle-sharing_system)_ \n",
    "   \n",
    "   Over the past three years in China, I have come to experience the importance of bike-sharing services. I have also seen one new entry(Hello Bike) assume the lion's share in the market space and forcing the then market leader (OFO) into closure. I do not know the full details of the market, and therefore will attempt this project on some assumptions and observations that support my research on the subject thus far.\n",
    "   \n",
    "   As aforementioned, there are valid and strong social reasons for setting up a bike sharing service. However, as is the aim of every business to maximize profit while ensuring business continuity and high customer satisfaction, bike sharing companies also aim to be profitable whilst protecting the environment. \n",
    "   \n",
    "   Though my experience with bike sharing is in the far east, I chose the [London Bike Sharing System dataset](https://www.kaggle.com/edenau/london-bike-sharing-system-data) because it's fits the purpose of this project for further analysis and visualization to be presented to the data team lead and CEO.\n",
    "   \n",
    "   _**This project does not include the cost of subscription or one-time use of bikes: it is assumed all bikes charge the same fee**_\n",
    "\n",
    "\n",
    "**Problems**\n",
    "\n",
    "The problems (in no specific order) to be addressed include but not limited to the following:\n",
    "* What is the current number of bikes in the system?\n",
    "* Which stations will be most profitable to have docking stations?\n",
    "* What is the minimum and maximum travel time per session?\n",
    "* What is the minimum and maximum distance travelled per session?\n",
    "* What time of the day do people really use bike sharing services?\n",
    "\n",
    "I believe, the above problems carefully handled can answer the main problem I identified below in my experience.\n",
    "* How do we ensure that bikes are available where and when they are needed?"
   ]
  },
  {
   "cell_type": "markdown",
   "metadata": {},
   "source": [
    "---\n",
    "\n",
    "Let's import all libraries and load the dataset"
   ]
  },
  {
   "cell_type": "code",
   "execution_count": 1,
   "metadata": {},
   "outputs": [],
   "source": [
    "#%matplotlib inline\n",
    "import numpy as np\n",
    "import pandas as pd\n",
    "import matplotlib.pyplot as plt"
   ]
  },
  {
   "cell_type": "code",
   "execution_count": null,
   "metadata": {},
   "outputs": [],
   "source": [
    "file1 = \"U.S._natural_gas_production.csv\"\n",
    "gas_df = pd.read_csv(file, decimal=\",\")\n",
    "gas_df.head(3)"
   ]
  }
 ],
 "metadata": {
  "kernelspec": {
   "display_name": "Python 3",
   "language": "python",
   "name": "python3"
  },
  "language_info": {
   "codemirror_mode": {
    "name": "ipython",
    "version": 3
   },
   "file_extension": ".py",
   "mimetype": "text/x-python",
   "name": "python",
   "nbconvert_exporter": "python",
   "pygments_lexer": "ipython3",
   "version": "3.7.5"
  }
 },
 "nbformat": 4,
 "nbformat_minor": 2
}
