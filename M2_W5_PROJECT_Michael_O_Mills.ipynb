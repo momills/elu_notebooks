{
 "cells": [
  {
   "cell_type": "markdown",
   "metadata": {},
   "source": [
    "# Visualizing Data for Different Teams: London Bike Sharing System\n",
    "\n",
    "### _by Michael Odartei Mills_\n",
    "\n",
    "**Business Case**\n",
    "\n",
    ">\"The concept of bike sharing is to provide free or **affordable** access to bicycles for short-distance trips in an urban area as an alternative to motorised public transport or private vehicles, thereby reducing congestion, noise, and air pollution.\" ~ _[Wikipedea](https://en.wikipedia.org/wiki/Bicycle-sharing_system)_ \n",
    "   \n",
    "   Over the past three years in China, I have come to experience the importance of bike-sharing services. I have also seen one new entry(Hello Bike) assume the lion's share in the market space and forcing the then market leader (OFO) into closure. I do not know the full details of the market, and therefore will attempt this project on some assumptions and observations that support my research on the subject thus far.\n",
    "   \n",
    "   As aforementioned, there are valid and strong social reasons for setting up a bike sharing service. However, as is the aim of every business to maximize profit while ensuring business continuity and high customer satisfaction, bike sharing companies also aim to be profitable whilst protecting the environment. \n",
    "   \n",
    "   Though my experience with bike sharing is in the far east, I chose the [London Bike Sharing System dataset](https://www.kaggle.com/edenau/london-bike-sharing-system-data) because it's fits the purpose of this project for further analysis and visualization to be presented to the data team lead and CEO.\n",
    "   \n",
    "   _**This project does not include the cost of subscription or one-time use of bikes: it is assumed all bikes charge the same fee**_\n",
    "\n",
    "\n",
    "**Problems**\n",
    "\n",
    "The problems (in no specific order) to be addressed include but not limited to the following:\n",
    "* What is the current number of bikes in the system?\n",
    "* Which stations will be most profitable to have docking stations?\n",
    "* What is the minimum and maximum travel time per session?\n",
    "* What is the minimum and maximum distance travelled per session?\n",
    "* What time of the day do people really use bike sharing services?\n",
    "* Should a stations current capacity be increased?\n",
    "* In imprompu shortage situations, which station is the best to have as backup supply? \n",
    "\n",
    "I believe, the above problems carefully handled can answer the main problem I identified below in my experience.\n",
    "* How do we ensure that bikes are available where and when they are needed?"
   ]
  },
  {
   "cell_type": "markdown",
   "metadata": {},
   "source": [
    "---\n",
    "\n",
    "Let's import all libraries and load the dataset"
   ]
  },
  {
   "cell_type": "code",
   "execution_count": 1,
   "metadata": {},
   "outputs": [],
   "source": [
    "#%matplotlib inline\n",
    "import numpy as np\n",
    "import pandas as pd\n",
    "import matplotlib.pyplot as plt"
   ]
  },
  {
   "cell_type": "code",
   "execution_count": 12,
   "metadata": {},
   "outputs": [
    {
     "data": {
      "text/html": [
       "<div>\n",
       "<style scoped>\n",
       "    .dataframe tbody tr th:only-of-type {\n",
       "        vertical-align: middle;\n",
       "    }\n",
       "\n",
       "    .dataframe tbody tr th {\n",
       "        vertical-align: top;\n",
       "    }\n",
       "\n",
       "    .dataframe thead th {\n",
       "        text-align: right;\n",
       "    }\n",
       "</style>\n",
       "<table border=\"1\" class=\"dataframe\">\n",
       "  <thead>\n",
       "    <tr style=\"text-align: right;\">\n",
       "      <th></th>\n",
       "      <th>Journey Duration</th>\n",
       "      <th>Journey ID</th>\n",
       "      <th>End Date</th>\n",
       "      <th>End Month</th>\n",
       "      <th>End Year</th>\n",
       "      <th>End Hour</th>\n",
       "      <th>End Minute</th>\n",
       "      <th>End Station ID</th>\n",
       "      <th>Start Date</th>\n",
       "      <th>Start Month</th>\n",
       "      <th>Start Year</th>\n",
       "      <th>Start Hour</th>\n",
       "      <th>Start Minute</th>\n",
       "      <th>Start Station ID</th>\n",
       "    </tr>\n",
       "  </thead>\n",
       "  <tbody>\n",
       "    <tr>\n",
       "      <th>0</th>\n",
       "      <td>2040.0</td>\n",
       "      <td>953</td>\n",
       "      <td>19</td>\n",
       "      <td>9</td>\n",
       "      <td>17</td>\n",
       "      <td>18</td>\n",
       "      <td>0</td>\n",
       "      <td>478</td>\n",
       "      <td>19</td>\n",
       "      <td>9</td>\n",
       "      <td>17</td>\n",
       "      <td>17</td>\n",
       "      <td>26</td>\n",
       "      <td>251</td>\n",
       "    </tr>\n",
       "    <tr>\n",
       "      <th>1</th>\n",
       "      <td>1800.0</td>\n",
       "      <td>12581</td>\n",
       "      <td>19</td>\n",
       "      <td>9</td>\n",
       "      <td>17</td>\n",
       "      <td>15</td>\n",
       "      <td>21</td>\n",
       "      <td>122</td>\n",
       "      <td>19</td>\n",
       "      <td>9</td>\n",
       "      <td>17</td>\n",
       "      <td>14</td>\n",
       "      <td>51</td>\n",
       "      <td>550</td>\n",
       "    </tr>\n",
       "    <tr>\n",
       "      <th>2</th>\n",
       "      <td>1140.0</td>\n",
       "      <td>1159</td>\n",
       "      <td>15</td>\n",
       "      <td>9</td>\n",
       "      <td>17</td>\n",
       "      <td>17</td>\n",
       "      <td>1</td>\n",
       "      <td>639</td>\n",
       "      <td>15</td>\n",
       "      <td>9</td>\n",
       "      <td>17</td>\n",
       "      <td>16</td>\n",
       "      <td>42</td>\n",
       "      <td>212</td>\n",
       "    </tr>\n",
       "  </tbody>\n",
       "</table>\n",
       "</div>"
      ],
      "text/plain": [
       "   Journey Duration  Journey ID  End Date  End Month  End Year  End Hour  \\\n",
       "0            2040.0         953        19          9        17        18   \n",
       "1            1800.0       12581        19          9        17        15   \n",
       "2            1140.0        1159        15          9        17        17   \n",
       "\n",
       "   End Minute  End Station ID  Start Date  Start Month  Start Year  \\\n",
       "0           0             478          19            9          17   \n",
       "1          21             122          19            9          17   \n",
       "2           1             639          15            9          17   \n",
       "\n",
       "   Start Hour  Start Minute  Start Station ID  \n",
       "0          17            26               251  \n",
       "1          14            51               550  \n",
       "2          16            42               212  "
      ]
     },
     "execution_count": 12,
     "metadata": {},
     "output_type": "execute_result"
    }
   ],
   "source": [
    "file_1 = \"london_journeys.csv\"\n",
    "journeys_df = pd.read_csv(file_1)\n",
    "journeys_df.head(3)"
   ]
  },
  {
   "cell_type": "code",
   "execution_count": 3,
   "metadata": {},
   "outputs": [
    {
     "data": {
      "text/html": [
       "<div>\n",
       "<style scoped>\n",
       "    .dataframe tbody tr th:only-of-type {\n",
       "        vertical-align: middle;\n",
       "    }\n",
       "\n",
       "    .dataframe tbody tr th {\n",
       "        vertical-align: top;\n",
       "    }\n",
       "\n",
       "    .dataframe thead th {\n",
       "        text-align: right;\n",
       "    }\n",
       "</style>\n",
       "<table border=\"1\" class=\"dataframe\">\n",
       "  <thead>\n",
       "    <tr style=\"text-align: right;\">\n",
       "      <th></th>\n",
       "      <th>Station ID</th>\n",
       "      <th>Capacity</th>\n",
       "      <th>Latitude</th>\n",
       "      <th>Longitude</th>\n",
       "      <th>Station Name</th>\n",
       "    </tr>\n",
       "  </thead>\n",
       "  <tbody>\n",
       "    <tr>\n",
       "      <th>0</th>\n",
       "      <td>1</td>\n",
       "      <td>19</td>\n",
       "      <td>51.529163</td>\n",
       "      <td>-0.109970</td>\n",
       "      <td>River Street , Clerkenwell</td>\n",
       "    </tr>\n",
       "    <tr>\n",
       "      <th>1</th>\n",
       "      <td>2</td>\n",
       "      <td>37</td>\n",
       "      <td>51.499606</td>\n",
       "      <td>-0.197574</td>\n",
       "      <td>Phillimore Gardens, Kensington</td>\n",
       "    </tr>\n",
       "    <tr>\n",
       "      <th>2</th>\n",
       "      <td>3</td>\n",
       "      <td>32</td>\n",
       "      <td>51.521283</td>\n",
       "      <td>-0.084605</td>\n",
       "      <td>Christopher Street, Liverpool Street</td>\n",
       "    </tr>\n",
       "  </tbody>\n",
       "</table>\n",
       "</div>"
      ],
      "text/plain": [
       "   Station ID  Capacity   Latitude  Longitude  \\\n",
       "0           1        19  51.529163  -0.109970   \n",
       "1           2        37  51.499606  -0.197574   \n",
       "2           3        32  51.521283  -0.084605   \n",
       "\n",
       "                           Station Name  \n",
       "0            River Street , Clerkenwell  \n",
       "1        Phillimore Gardens, Kensington  \n",
       "2  Christopher Street, Liverpool Street  "
      ]
     },
     "execution_count": 3,
     "metadata": {},
     "output_type": "execute_result"
    }
   ],
   "source": [
    "file_2 = \"london_stations.csv\"\n",
    "stations_df = pd.read_csv(file_2)\n",
    "stations_df.head(3)"
   ]
  },
  {
   "cell_type": "code",
   "execution_count": 33,
   "metadata": {},
   "outputs": [
    {
     "data": {
      "text/html": [
       "<div>\n",
       "<style scoped>\n",
       "    .dataframe tbody tr th:only-of-type {\n",
       "        vertical-align: middle;\n",
       "    }\n",
       "\n",
       "    .dataframe tbody tr th {\n",
       "        vertical-align: top;\n",
       "    }\n",
       "\n",
       "    .dataframe thead th {\n",
       "        text-align: right;\n",
       "    }\n",
       "</style>\n",
       "<table border=\"1\" class=\"dataframe\">\n",
       "  <thead>\n",
       "    <tr style=\"text-align: right;\">\n",
       "      <th></th>\n",
       "      <th>Journey Duration</th>\n",
       "      <th>Journey ID</th>\n",
       "      <th>End Date</th>\n",
       "      <th>End Month</th>\n",
       "      <th>End Year</th>\n",
       "      <th>End Hour</th>\n",
       "      <th>End Minute</th>\n",
       "      <th>End Station ID</th>\n",
       "      <th>Start Date</th>\n",
       "      <th>Start Month</th>\n",
       "      <th>Start Year</th>\n",
       "      <th>Start Hour</th>\n",
       "      <th>Start Minute</th>\n",
       "      <th>Start Station ID</th>\n",
       "    </tr>\n",
       "  </thead>\n",
       "  <tbody>\n",
       "    <tr>\n",
       "      <th>0</th>\n",
       "      <td>2040.0</td>\n",
       "      <td>953</td>\n",
       "      <td>19</td>\n",
       "      <td>9</td>\n",
       "      <td>17</td>\n",
       "      <td>18</td>\n",
       "      <td>0</td>\n",
       "      <td>478</td>\n",
       "      <td>19</td>\n",
       "      <td>9</td>\n",
       "      <td>17</td>\n",
       "      <td>17</td>\n",
       "      <td>26</td>\n",
       "      <td>251</td>\n",
       "    </tr>\n",
       "  </tbody>\n",
       "</table>\n",
       "</div>"
      ],
      "text/plain": [
       "   Journey Duration  Journey ID  End Date  End Month  End Year  End Hour  \\\n",
       "0            2040.0         953        19          9        17        18   \n",
       "\n",
       "   End Minute  End Station ID  Start Date  Start Month  Start Year  \\\n",
       "0           0             478          19            9          17   \n",
       "\n",
       "   Start Hour  Start Minute  Start Station ID  \n",
       "0          17            26               251  "
      ]
     },
     "execution_count": 33,
     "metadata": {},
     "output_type": "execute_result"
    }
   ],
   "source": [
    "journeys_df[:][0:1]"
   ]
  },
  {
   "cell_type": "code",
   "execution_count": 6,
   "metadata": {},
   "outputs": [
    {
     "data": {
      "text/plain": [
       "(773, 5)"
      ]
     },
     "execution_count": 6,
     "metadata": {},
     "output_type": "execute_result"
    }
   ],
   "source": [
    "stations_df.shape"
   ]
  },
  {
   "cell_type": "markdown",
   "metadata": {},
   "source": [
    "* What is the current number of bikes in the system?"
   ]
  },
  {
   "cell_type": "code",
   "execution_count": 36,
   "metadata": {},
   "outputs": [
    {
     "data": {
      "text/plain": [
       "20659"
      ]
     },
     "execution_count": 36,
     "metadata": {},
     "output_type": "execute_result"
    }
   ],
   "source": [
    "stations_df['Capacity'].sum()"
   ]
  },
  {
   "cell_type": "code",
   "execution_count": 38,
   "metadata": {},
   "outputs": [
    {
     "data": {
      "text/plain": [
       "(array([ 3.,  0.,  0.,  0.,  0.,  3.,  0.,  6.,  0., 20.,  0., 38., 28.,\n",
       "         0., 55.,  0., 25.,  0., 31.,  0., 48.,  0., 34.,  0., 21., 68.,\n",
       "         0., 22.,  0., 28.,  0., 39.,  0., 44.,  0., 21.,  0., 36.,  9.,\n",
       "         0., 14.,  0., 25.,  0., 13.,  0., 14.,  0., 25.,  0., 16.,  8.,\n",
       "         0.,  7.,  0.,  7.,  0., 13.,  0.,  6.,  0.,  5.,  3.,  0.,  9.,\n",
       "         0.,  4.,  0.,  3.,  0.,  2.,  0.,  1.,  0.,  1.,  2.,  0.,  1.,\n",
       "         0.,  0.,  0.,  3.,  0.,  1.,  0.,  3.,  0.,  3.,  0.,  0.,  0.,\n",
       "         0.,  1.,  0.,  0.,  0.,  0.,  0.,  2.,  2.]),\n",
       " array([10.  , 10.54, 11.08, 11.62, 12.16, 12.7 , 13.24, 13.78, 14.32,\n",
       "        14.86, 15.4 , 15.94, 16.48, 17.02, 17.56, 18.1 , 18.64, 19.18,\n",
       "        19.72, 20.26, 20.8 , 21.34, 21.88, 22.42, 22.96, 23.5 , 24.04,\n",
       "        24.58, 25.12, 25.66, 26.2 , 26.74, 27.28, 27.82, 28.36, 28.9 ,\n",
       "        29.44, 29.98, 30.52, 31.06, 31.6 , 32.14, 32.68, 33.22, 33.76,\n",
       "        34.3 , 34.84, 35.38, 35.92, 36.46, 37.  , 37.54, 38.08, 38.62,\n",
       "        39.16, 39.7 , 40.24, 40.78, 41.32, 41.86, 42.4 , 42.94, 43.48,\n",
       "        44.02, 44.56, 45.1 , 45.64, 46.18, 46.72, 47.26, 47.8 , 48.34,\n",
       "        48.88, 49.42, 49.96, 50.5 , 51.04, 51.58, 52.12, 52.66, 53.2 ,\n",
       "        53.74, 54.28, 54.82, 55.36, 55.9 , 56.44, 56.98, 57.52, 58.06,\n",
       "        58.6 , 59.14, 59.68, 60.22, 60.76, 61.3 , 61.84, 62.38, 62.92,\n",
       "        63.46, 64.  ]),\n",
       " <a list of 100 Patch objects>)"
      ]
     },
     "execution_count": 38,
     "metadata": {},
     "output_type": "execute_result"
    },
    {
     "data": {
      "image/png": "[encoded data removed]",
      "text/plain": [
       "<Figure size 432x288 with 1 Axes>"
      ]
     },
     "metadata": {
      "needs_background": "light"
     },
     "output_type": "display_data"
    }
   ],
   "source": [
    "plt.hist(stations_df['Capacity'], bins=100)"
   ]
  },
  {
   "cell_type": "code",
   "execution_count": null,
   "metadata": {},
   "outputs": [],
   "source": []
  },
  {
   "cell_type": "code",
   "execution_count": null,
   "metadata": {},
   "outputs": [],
   "source": []
  },
  {
   "cell_type": "markdown",
   "metadata": {},
   "source": [
    "* Which stations will be most profitable to have docking stations?"
   ]
  },
  {
   "cell_type": "markdown",
   "metadata": {},
   "source": [
    "* What is the minimum and maximum travel time per session?"
   ]
  },
  {
   "cell_type": "markdown",
   "metadata": {},
   "source": [
    "* What is the minimum and maximum distance travelled per session?\n"
   ]
  },
  {
   "cell_type": "markdown",
   "metadata": {},
   "source": [
    "* What time of the day do people really use bike sharing services?\n"
   ]
  },
  {
   "cell_type": "markdown",
   "metadata": {},
   "source": [
    "* Should a stations current capacity be increased?\n"
   ]
  },
  {
   "cell_type": "markdown",
   "metadata": {},
   "source": [
    "* In imprompu shortage situations, which station is the best to have as backup supply? "
   ]
  },
  {
   "cell_type": "code",
   "execution_count": null,
   "metadata": {},
   "outputs": [],
   "source": []
  }
 ],
 "metadata": {
  "kernelspec": {
   "display_name": "Python 3",
   "language": "python",
   "name": "python3"
  },
  "language_info": {
   "codemirror_mode": {
    "name": "ipython",
    "version": 3
   },
   "file_extension": ".py",
   "mimetype": "text/x-python",
   "name": "python",
   "nbconvert_exporter": "python",
   "pygments_lexer": "ipython3",
   "version": "3.7.5"
  }
 },
 "nbformat": 4,
 "nbformat_minor": 2
}
