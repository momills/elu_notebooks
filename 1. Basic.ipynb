{
 "cells": [
  {
   "cell_type": "markdown",
   "metadata": {},
   "source": [
    "# Analyzing Mobile App Data\n",
    "\n",
    "In this *guided* project I'll pretend I'm working as data analysts for a company that builds Android and iOS mobile apps. They make apps available on Google Play and the App Store.\n",
    "\n",
    "They only build apps that are free to download and install, and our main source of revenue consists of in-app ads. This means our revenue for any given app is mostly influenced by the number of users who use our app — the more users that see and engage with the ads, the better.\n",
    "The goal for this project is to analyze data to help our developers understand what type of apps are likely to attract more users."
   ]
  },
  {
   "cell_type": "markdown",
   "metadata": {},
   "source": [
    "## Load Data"
   ]
  },
  {
   "cell_type": "code",
   "execution_count": 1,
   "metadata": {},
   "outputs": [],
   "source": [
    "#load csv function\n",
    "def load_data(data_csv):\n",
    "    opened_file = open(data_csv, encoding=\"utf8\")\n",
    "    from csv import reader\n",
    "    read_file = reader(opened_file)\n",
    "    return list(read_file)\n",
    "\n",
    "apple_data = load_data(\"AppleStore.csv\")\n",
    "google_data = load_data(\"googleplaystore.csv\")"
   ]
  },
  {
   "cell_type": "markdown",
   "metadata": {},
   "source": [
    "## Explore Data"
   ]
  },
  {
   "cell_type": "code",
   "execution_count": 2,
   "metadata": {},
   "outputs": [],
   "source": [
    "#data explore function\n",
    "def explore_data(dataset, start, end, rows_and_columns=False):\n",
    "    dataset_slice = dataset[start:end]    \n",
    "    for row in dataset_slice:\n",
    "        print(row)\n",
    "        print('\\n') # adds a new (empty) line after each row\n",
    "\n",
    "    if rows_and_columns:\n",
    "        print('Number of rows:', len(dataset))\n",
    "        print('Number of columns:', len(dataset[0]))"
   ]
  },
  {
   "cell_type": "code",
   "execution_count": 7,
   "metadata": {},
   "outputs": [
    {
     "name": "stdout",
     "output_type": "stream",
     "text": [
      "['App', 'Category', 'Rating', 'Reviews', 'Size', 'Installs', 'Type', 'Price', 'Content Rating', 'Genres', 'Last Updated', 'Current Ver', 'Android Ver']\n",
      "\n",
      "\n",
      "['Photo Editor & Candy Camera & Grid & ScrapBook', 'ART_AND_DESIGN', '4.1', '159', '19M', '10,000+', 'Free', '0', 'Everyone', 'Art & Design', 'January 7, 2018', '1.0.0', '4.0.3 and up']\n",
      "\n",
      "\n",
      "Number of rows: 10842\n",
      "Number of columns: 13\n"
     ]
    }
   ],
   "source": [
    "explore_data(google_data, 0, 2, True)"
   ]
  },
  {
   "cell_type": "code",
   "execution_count": 13,
   "metadata": {},
   "outputs": [
    {
     "name": "stdout",
     "output_type": "stream",
     "text": [
      "['id', 'track_name', 'size_bytes', 'currency', 'price', 'rating_count_tot', 'rating_count_ver', 'user_rating', 'user_rating_ver', 'ver', 'cont_rating', 'prime_genre', 'sup_devices.num', 'ipadSc_urls.num', 'lang.num', 'vpp_lic']\n",
      "\n",
      "\n",
      "['284882215', 'Facebook', '389879808', 'USD', '0.0', '2974676', '212', '3.5', '3.5', '95.0', '4+', 'Social Networking', '37', '1', '29', '1']\n",
      "\n",
      "\n",
      "Number of rows: 7198\n",
      "Number of columns: 16\n"
     ]
    }
   ],
   "source": [
    "explore_data(apple_data, 0, 2, True)"
   ]
  },
  {
   "cell_type": "markdown",
   "metadata": {},
   "source": [
    "## Clean Data: google_data"
   ]
  },
  {
   "cell_type": "markdown",
   "metadata": {},
   "source": [
    "https://www.kaggle.com/lava18/google-play-store-apps/discussion/66015\n",
    "In google_data:\n",
    "1. the above shows the below entry isnt complete, hence I deleted the entry. It doent have a 'Category' data\n",
    "2. some apps like Instagram has duplicates, removed them and maintain the most recent row"
   ]
  },
  {
   "cell_type": "code",
   "execution_count": 10,
   "metadata": {},
   "outputs": [
    {
     "name": "stdout",
     "output_type": "stream",
     "text": [
      "['Life Made WI-Fi Touchscreen Photo Frame', '1.9', '19', '3.0M', '1,000+', 'Free', '0', 'Everyone', '', 'February 11, 2018', '1.0.19', '4.0 and up']\n"
     ]
    }
   ],
   "source": [
    "print(google_data[10473])"
   ]
  },
  {
   "cell_type": "code",
   "execution_count": 11,
   "metadata": {},
   "outputs": [],
   "source": [
    "del(google_data[10473])"
   ]
  },
  {
   "cell_type": "markdown",
   "metadata": {},
   "source": [
    "### separating duplicates from main data set"
   ]
  },
  {
   "cell_type": "code",
   "execution_count": 18,
   "metadata": {},
   "outputs": [
    {
     "name": "stdout",
     "output_type": "stream",
     "text": [
      "Number of duplicates:  1181\n",
      "\n",
      " Number of rows left:  9659\n",
      "\n",
      " example:  ['Quick PDF Scanner + OCR FREE', 'Box', 'Google My Business', 'ZOOM Cloud Meetings']\n"
     ]
    }
   ],
   "source": [
    "duplicate_apps = []\n",
    "unique_apps = []\n",
    "\n",
    "for row in google_data[1:]:\n",
    "    app_name = row[0]\n",
    "    if app_name in unique_apps:\n",
    "        duplicate_apps.append(app_name)\n",
    "    else:\n",
    "        unique_apps.append(app_name)\n",
    "        \n",
    "print('Number of duplicates: ', len(duplicate_apps))\n",
    "print('\\n Number of rows left: ', len(unique_apps))\n",
    "print('\\n example: ', duplicate_apps[0:4])\n",
    "\n"
   ]
  },
  {
   "cell_type": "markdown",
   "metadata": {},
   "source": [
    "#### checking how many duplicates of 'Box' we have in the data set"
   ]
  },
  {
   "cell_type": "code",
   "execution_count": 17,
   "metadata": {},
   "outputs": [
    {
     "name": "stdout",
     "output_type": "stream",
     "text": [
      "['Box', 'BUSINESS', '4.2', '159872', 'Varies with device', '10,000,000+', 'Free', '0', 'Everyone', 'Business', 'July 31, 2018', 'Varies with device', 'Varies with device']\n",
      "['Box', 'BUSINESS', '4.2', '159872', 'Varies with device', '10,000,000+', 'Free', '0', 'Everyone', 'Business', 'July 31, 2018', 'Varies with device', 'Varies with device']\n",
      "['Box', 'BUSINESS', '4.2', '159872', 'Varies with device', '10,000,000+', 'Free', '0', 'Everyone', 'Business', 'July 31, 2018', 'Varies with device', 'Varies with device']\n"
     ]
    }
   ],
   "source": [
    "for row in google_data[1:]:\n",
    "    app_name = row[0]\n",
    "    if app_name == 'Box':\n",
    "        print(row)"
   ]
  },
  {
   "cell_type": "markdown",
   "metadata": {},
   "source": [
    "From the above, 'Box' app has three entries. Which of the entries should be removed?\n",
    "\n",
    "    The main difference happens on the fourth position of each row, which corresponds to the number of reviews. The different numbers show the data was collected at different times.\n",
    "    We can use this information to build a criterion for removing the duplicates. The higher the number of reviews, the more recent the data should be"
   ]
  },
  {
   "cell_type": "code",
   "execution_count": 22,
   "metadata": {},
   "outputs": [
    {
     "data": {
      "text/plain": [
       "9659"
      ]
     },
     "execution_count": 22,
     "metadata": {},
     "output_type": "execute_result"
    }
   ],
   "source": [
    "reviews_max ={}\n",
    "for row in google_data[1:]:\n",
    "    name = row[0]\n",
    "    n_reviews = float(row[3])\n",
    "    if name in reviews_max and reviews_max[name] < n_reviews:\n",
    "        reviews_max[name] = n_reviews\n",
    "    elif name not in reviews_max:\n",
    "        reviews_max[name] = n_reviews\n",
    "\n",
    "len(reviews_max) #9659 expected"
   ]
  },
  {
   "cell_type": "markdown",
   "metadata": {},
   "source": [
    "In order to ensure we are collecting the clean data only we need the function below to ensure this"
   ]
  },
  {
   "cell_type": "code",
   "execution_count": 67,
   "metadata": {},
   "outputs": [
    {
     "data": {
      "text/plain": [
       "True"
      ]
     },
     "execution_count": 67,
     "metadata": {},
     "output_type": "execute_result"
    }
   ],
   "source": [
    "android_clean = [] #cleaned googe_data\n",
    "already_added = [] # serves as a checklist \n",
    "\n",
    "for row in google_data[1:]:\n",
    "    name = row[0]\n",
    "    n_reviews = float(row[3])\n",
    "    if n_reviews == reviews_max[name] and name not in already_added:\n",
    "        android_clean.append(row)\n",
    "        already_added.append(name)\n",
    "        \n",
    "android_header = google_data[0]\n",
    "len(reviews_max) == len(android_clean) #True means all collected 9659 apps"
   ]
  },
  {
   "cell_type": "code",
   "execution_count": 26,
   "metadata": {},
   "outputs": [
    {
     "name": "stdout",
     "output_type": "stream",
     "text": [
      "['Photo Editor & Candy Camera & Grid & ScrapBook', 'ART_AND_DESIGN', '4.1', '159', '19M', '10,000+', 'Free', '0', 'Everyone', 'Art & Design', 'January 7, 2018', '1.0.0', '4.0.3 and up']\n",
      "\n",
      "\n",
      "['U Launcher Lite – FREE Live Cool Themes, Hide Apps', 'ART_AND_DESIGN', '4.7', '87510', '8.7M', '5,000,000+', 'Free', '0', 'Everyone', 'Art & Design', 'August 1, 2018', '1.2.4', '4.0.3 and up']\n",
      "\n",
      "\n",
      "Number of rows: 9659\n",
      "Number of columns: 13\n"
     ]
    }
   ],
   "source": [
    "explore_data(android_clean, 0, 2, True)\n",
    "# clean data doesnt include the headers"
   ]
  },
  {
   "cell_type": "markdown",
   "metadata": {},
   "source": [
    "### removing non-English apps\n",
    "ASCII for English characters are 0-127"
   ]
  },
  {
   "cell_type": "code",
   "execution_count": 48,
   "metadata": {},
   "outputs": [
    {
     "data": {
      "text/plain": [
       "False"
      ]
     },
     "execution_count": 48,
     "metadata": {},
     "output_type": "execute_result"
    }
   ],
   "source": [
    "def english_only(string):\n",
    "    for i in string:\n",
    "        if ord(i) > 127: #ord() returns ASCII\n",
    "            return False\n",
    "    return True\n",
    "        \n",
    "english_only('Docs To Go™ Free Office Suite')\n",
    "#english_only('我爱中国')\n",
    "#english_only('Instachat 😜')"
   ]
  },
  {
   "cell_type": "markdown",
   "metadata": {},
   "source": [
    "Emojis and subscripts are out of range > 127, this implies we will lose data if we use this function as it is(as many apps have out of ASCII range characters though they are English apps), we can reduce this effect by checking if an app has more than 3 non-English characters in its name: therefore the `english_only()` function is rewritten below"
   ]
  },
  {
   "cell_type": "code",
   "execution_count": 55,
   "metadata": {},
   "outputs": [
    {
     "data": {
      "text/plain": [
       "True"
      ]
     },
     "execution_count": 55,
     "metadata": {},
     "output_type": "execute_result"
    }
   ],
   "source": [
    "def english_only(string):\n",
    "    count = 0\n",
    "    for i in string:\n",
    "        if ord(i) > 127: #ord() returns ASCII\n",
    "            count += 1\n",
    "            if count >= 3:\n",
    "                return False\n",
    "    return True\n",
    "\n",
    "#english_only('Docs To Go™ Free Office Suite')\n",
    "#english_only('我爱中国')\n",
    "english_only('Instachat 😜')"
   ]
  },
  {
   "cell_type": "markdown",
   "metadata": {},
   "source": [
    "*Use the new function to filter out non-English apps from both data sets. Loop through each data set. If an app name is identified as English, append the whole row to a separate list.*"
   ]
  },
  {
   "cell_type": "code",
   "execution_count": 58,
   "metadata": {},
   "outputs": [
    {
     "name": "stdout",
     "output_type": "stream",
     "text": [
      "There are 9597 English apps now\n"
     ]
    }
   ],
   "source": [
    "android_clean_eng = []\n",
    "\n",
    "for row in android_clean:\n",
    "    name = row[0]\n",
    "    if english_only(name):\n",
    "        android_clean_eng.append(row)\n",
    "print(f'There are {len(android_clean_eng)} English Android apps now')"
   ]
  },
  {
   "cell_type": "markdown",
   "metadata": {},
   "source": [
    "## Clean Data: apple_data"
   ]
  },
  {
   "cell_type": "markdown",
   "metadata": {},
   "source": [
    "https://www.kaggle.com/ramamet4/app-store-apple-data-set-10k-apps/discussion\n",
    "In apple_data:\n",
    "1. no issue yet"
   ]
  },
  {
   "cell_type": "code",
   "execution_count": 68,
   "metadata": {},
   "outputs": [
    {
     "name": "stdout",
     "output_type": "stream",
     "text": [
      "There are 7197 English iOS apps now\n"
     ]
    }
   ],
   "source": [
    "ios_clean_eng = [] #cleaned apple_data\n",
    "\n",
    "for row in apple_data[1:]:\n",
    "    name = row[0]\n",
    "    if english_only(name):\n",
    "        ios_clean_eng.append(row)\n",
    "        \n",
    "ios_header = apple_data[0]\n",
    "print(f'There are {len(ios_clean_eng)} English iOS apps now')"
   ]
  },
  {
   "cell_type": "markdown",
   "metadata": {},
   "source": [
    "### isolate free apps\n",
    "Our interest is in free apps, hence first step is to isolate those for further analysis\n",
    "* correctly identify price column: *5th and 8th coloumn of apple data and google data respectively*"
   ]
  },
  {
   "cell_type": "code",
   "execution_count": 71,
   "metadata": {},
   "outputs": [
    {
     "name": "stdout",
     "output_type": "stream",
     "text": [
      "There are 9597 English Android apps now \n",
      "\n",
      "There are 8848 FREE English Android apps now\n"
     ]
    }
   ],
   "source": [
    "free_android_clean_eng = []\n",
    "\n",
    "for row in android_clean_eng:\n",
    "    price = float(row[7].strip('$')) # 8th column\n",
    "    if price == 0.0:\n",
    "        free_android_clean_eng.append(row)\n",
    "print(f'There are {len(android_clean_eng)} English Android apps now \\n')\n",
    "print(f'There are {len(free_android_clean_eng)} FREE English Android apps now')"
   ]
  },
  {
   "cell_type": "code",
   "execution_count": 78,
   "metadata": {},
   "outputs": [
    {
     "name": "stdout",
     "output_type": "stream",
     "text": [
      "There are 7197 English iOS apps now \n",
      "\n",
      "There are 4056 FREE English iOS apps now\n"
     ]
    }
   ],
   "source": [
    "free_ios_clean_eng = [] \n",
    "\n",
    "for row in ios_clean_eng:\n",
    "    price = float(row[4])  # 5th column\n",
    "    if price == 0.0:\n",
    "        free_ios_clean_eng.append(row)\n",
    "        \n",
    "print(f'There are {len(ios_clean_eng)} English iOS apps now \\n')\n",
    "print(f'There are {len(free_ios_clean_eng)} FREE English iOS apps now')"
   ]
  },
  {
   "cell_type": "markdown",
   "metadata": {},
   "source": [
    "## ANALYSIS \n",
    "Preamble\n",
    "our aim is to determine the kinds of apps that are likely to attract more users because our revenue is highly influenced by the number of people using our apps. Hence validation strategy is as follows:\n",
    "\n",
    "1. Build a minimal Android version of the app, and add it to Google Play.\n",
    "2. If the app has a good response from users, we develop it further.\n",
    "3. If the app is profitable after six months, we build an iOS version of the app and add it to the App Store.\n",
    "\n",
    "Because our end goal is to add the app on both Google Play and the App Store, we need to find app profiles that are successful on both markets. For instance, a profile that works well for both markets might be a productivity app that makes use of gamification."
   ]
  },
  {
   "cell_type": "code",
   "execution_count": 80,
   "metadata": {},
   "outputs": [
    {
     "name": "stdout",
     "output_type": "stream",
     "text": [
      "This is header of android ['App', 'Category', 'Rating', 'Reviews', 'Size', 'Installs', 'Type', 'Price', 'Content Rating', 'Genres', 'Last Updated', 'Current Ver', 'Android Ver'] \n",
      "\n",
      "This is header of ios ['id', 'track_name', 'size_bytes', 'currency', 'price', 'rating_count_tot', 'rating_count_ver', 'user_rating', 'user_rating_ver', 'ver', 'cont_rating', 'prime_genre', 'sup_devices.num', 'ipadSc_urls.num', 'lang.num', 'vpp_lic']\n"
     ]
    }
   ],
   "source": [
    "print(f'This is header of android {android_header} \\n')\n",
    "print(f'This is header of ios {ios_header}')"
   ]
  },
  {
   "cell_type": "markdown",
   "metadata": {},
   "source": [
    "Our conclusion was that we'll need to build a frequency table for the `prime_genre` column of the App Store data set, and for the `Genres` and Category columns of the Google Play data set."
   ]
  },
  {
   "cell_type": "raw",
   "metadata": {},
   "source": [
    "def freq_table(dataset, index):\n",
    "    freq_table = {}\n",
    "    value = 0\n",
    "    total_number_of_apps = len(dataset)\n",
    "    for row in dataset:\n",
    "        genre = row[index]\n",
    "        \n",
    "        if genre not in row:\n",
    "            value = 1\n",
    "            #freq_table[genre]=(value/total_number_of_apps) * 100\n",
    "        else:\n",
    "            value += 1\n",
    "        freq_table[genre]=(value/total_number_of_apps) * 100\n",
    "            \n",
    "    return freq_table\n",
    "\n",
    "def display_table(dataset, index):\n",
    "    table = freq_table(dataset, index)\n",
    "    table_display = []\n",
    "    for key in table:\n",
    "        key_val_as_tuple = (table[key], key)\n",
    "        table_display.append(key_val_as_tuple)\n",
    "\n",
    "    table_sorted = sorted(table_display, reverse = True)\n",
    "    for entry in table_sorted:\n",
    "        print(entry[1], ':', entry[0])\n",
    "\n",
    "display_table(free_android_clean_eng, 9)"
   ]
  },
  {
   "cell_type": "code",
   "execution_count": 124,
   "metadata": {},
   "outputs": [],
   "source": [
    "def freq_table(dataset, index):\n",
    "    table = {}\n",
    "    total = 0\n",
    "    \n",
    "    for row in dataset:\n",
    "        total += 1\n",
    "        value = row[index]\n",
    "        if value in table:\n",
    "            table[value] += 1\n",
    "        else:\n",
    "            table[value] = 1\n",
    "    \n",
    "    table_percentages = {}\n",
    "    for key in table:\n",
    "        percentage = (table[key] / total) * 100\n",
    "        table_percentages[key] = percentage \n",
    "    \n",
    "    return table_percentages\n",
    "\n",
    "\n",
    "def display_table(dataset, index):\n",
    "    table = freq_table(dataset, index)\n",
    "    table_display = []\n",
    "    for key in table:\n",
    "        key_val_as_tuple = (table[key], key)\n",
    "        table_display.append(key_val_as_tuple)\n",
    "        \n",
    "    table_sorted = sorted(table_display, reverse = True)\n",
    "    for entry in table_sorted:\n",
    "        print(entry[1], ':', entry[0])\n",
    "        "
   ]
  },
  {
   "cell_type": "code",
   "execution_count": 122,
   "metadata": {},
   "outputs": [
    {
     "name": "stdout",
     "output_type": "stream",
     "text": [
      "Tools : 8.44258589511754\n",
      "Entertainment : 6.080470162748644\n",
      "Education : 5.357142857142857\n",
      "Business : 4.599909584086799\n",
      "Productivity : 3.899186256781193\n",
      "Lifestyle : 3.8765822784810124\n",
      "Finance : 3.7070524412296564\n",
      "Medical : 3.5375226039783\n",
      "Sports : 3.4584086799276674\n",
      "Personalization : 3.322784810126582\n",
      "Communication : 3.2323688969258586\n",
      "Action : 3.096745027124774\n",
      "Health & Fitness : 3.0854430379746836\n",
      "Photography : 2.949819168173599\n",
      "News & Magazines : 2.802893309222423\n",
      "Social : 2.667269439421338\n",
      "Travel & Local : 2.328209764918626\n",
      "Shopping : 2.2490958408679926\n",
      "Books & Reference : 2.1360759493670884\n",
      "Simulation : 2.0456600361663653\n",
      "Dating : 1.8648282097649187\n",
      "Arcade : 1.842224231464738\n",
      "Video Players & Editors : 1.7744122965641953\n",
      "Casual : 1.763110307414105\n",
      "Maps & Navigation : 1.3901446654611211\n",
      "Food & Drink : 1.2432188065099457\n",
      "Puzzle : 1.1301989150090417\n",
      "Racing : 0.9945750452079566\n",
      "Role Playing : 0.9380650994575045\n",
      "Libraries & Demo : 0.9380650994575045\n",
      "Auto & Vehicles : 0.9267631103074141\n",
      "Strategy : 0.9154611211573236\n",
      "House & Home : 0.8024412296564195\n",
      "Weather : 0.7911392405063291\n",
      "Events : 0.7120253164556962\n",
      "Adventure : 0.6668173598553345\n",
      "Comics : 0.599005424954792\n",
      "Beauty : 0.599005424954792\n",
      "Art & Design : 0.599005424954792\n",
      "Parenting : 0.4972875226039783\n",
      "Card : 0.45207956600361665\n",
      "Trivia : 0.4181735985533454\n",
      "Casino : 0.4181735985533454\n",
      "Educational;Education : 0.39556962025316456\n",
      "Board : 0.3842676311030741\n",
      "Educational : 0.3729656419529837\n",
      "Education;Education : 0.33905967450271246\n",
      "Word : 0.25994575045207957\n",
      "Casual;Pretend Play : 0.23734177215189875\n",
      "Music : 0.2034358047016275\n",
      "Racing;Action & Adventure : 0.16952983725135623\n",
      "Puzzle;Brain Games : 0.16952983725135623\n",
      "Entertainment;Music & Video : 0.16952983725135623\n",
      "Casual;Brain Games : 0.13562386980108498\n",
      "Casual;Action & Adventure : 0.13562386980108498\n",
      "Arcade;Action & Adventure : 0.12432188065099457\n",
      "Action;Action & Adventure : 0.10171790235081375\n",
      "Educational;Pretend Play : 0.09041591320072333\n",
      "Simulation;Action & Adventure : 0.07911392405063292\n",
      "Parenting;Education : 0.07911392405063292\n",
      "Entertainment;Brain Games : 0.07911392405063292\n",
      "Board;Brain Games : 0.07911392405063292\n",
      "Parenting;Music & Video : 0.06781193490054249\n",
      "Educational;Brain Games : 0.06781193490054249\n",
      "Casual;Creativity : 0.06781193490054249\n",
      "Art & Design;Creativity : 0.06781193490054249\n",
      "Education;Pretend Play : 0.05650994575045208\n",
      "Role Playing;Pretend Play : 0.045207956600361664\n",
      "Education;Creativity : 0.045207956600361664\n",
      "Role Playing;Action & Adventure : 0.033905967450271246\n",
      "Puzzle;Action & Adventure : 0.033905967450271246\n",
      "Entertainment;Creativity : 0.033905967450271246\n",
      "Entertainment;Action & Adventure : 0.033905967450271246\n",
      "Educational;Creativity : 0.033905967450271246\n",
      "Educational;Action & Adventure : 0.033905967450271246\n",
      "Education;Music & Video : 0.033905967450271246\n",
      "Education;Brain Games : 0.033905967450271246\n",
      "Education;Action & Adventure : 0.033905967450271246\n",
      "Adventure;Action & Adventure : 0.033905967450271246\n",
      "Video Players & Editors;Music & Video : 0.022603978300180832\n",
      "Sports;Action & Adventure : 0.022603978300180832\n",
      "Simulation;Pretend Play : 0.022603978300180832\n",
      "Puzzle;Creativity : 0.022603978300180832\n",
      "Music;Music & Video : 0.022603978300180832\n",
      "Entertainment;Pretend Play : 0.022603978300180832\n",
      "Casual;Education : 0.022603978300180832\n",
      "Board;Action & Adventure : 0.022603978300180832\n",
      "Video Players & Editors;Creativity : 0.011301989150090416\n",
      "Trivia;Education : 0.011301989150090416\n",
      "Travel & Local;Action & Adventure : 0.011301989150090416\n",
      "Tools;Education : 0.011301989150090416\n",
      "Strategy;Education : 0.011301989150090416\n",
      "Strategy;Creativity : 0.011301989150090416\n",
      "Strategy;Action & Adventure : 0.011301989150090416\n",
      "Simulation;Education : 0.011301989150090416\n",
      "Role Playing;Brain Games : 0.011301989150090416\n",
      "Racing;Pretend Play : 0.011301989150090416\n",
      "Puzzle;Education : 0.011301989150090416\n",
      "Parenting;Brain Games : 0.011301989150090416\n",
      "Music & Audio;Music & Video : 0.011301989150090416\n",
      "Lifestyle;Pretend Play : 0.011301989150090416\n",
      "Lifestyle;Education : 0.011301989150090416\n",
      "Health & Fitness;Education : 0.011301989150090416\n",
      "Health & Fitness;Action & Adventure : 0.011301989150090416\n",
      "Entertainment;Education : 0.011301989150090416\n",
      "Communication;Creativity : 0.011301989150090416\n",
      "Comics;Creativity : 0.011301989150090416\n",
      "Casual;Music & Video : 0.011301989150090416\n",
      "Card;Action & Adventure : 0.011301989150090416\n",
      "Books & Reference;Education : 0.011301989150090416\n",
      "Art & Design;Pretend Play : 0.011301989150090416\n",
      "Art & Design;Action & Adventure : 0.011301989150090416\n",
      "Arcade;Pretend Play : 0.011301989150090416\n",
      "Adventure;Education : 0.011301989150090416\n",
      "\n",
      "\n",
      "FAMILY : 18.942133815551536\n",
      "GAME : 9.697106690777577\n",
      "TOOLS : 8.453887884267631\n",
      "BUSINESS : 4.599909584086799\n",
      "PRODUCTIVITY : 3.899186256781193\n",
      "LIFESTYLE : 3.887884267631103\n",
      "FINANCE : 3.7070524412296564\n",
      "MEDICAL : 3.5375226039783\n",
      "SPORTS : 3.390596745027125\n",
      "PERSONALIZATION : 3.322784810126582\n",
      "COMMUNICATION : 3.2323688969258586\n",
      "HEALTH_AND_FITNESS : 3.0854430379746836\n",
      "PHOTOGRAPHY : 2.949819168173599\n",
      "NEWS_AND_MAGAZINES : 2.802893309222423\n",
      "SOCIAL : 2.667269439421338\n",
      "TRAVEL_AND_LOCAL : 2.3395117540687163\n",
      "SHOPPING : 2.2490958408679926\n",
      "BOOKS_AND_REFERENCE : 2.1360759493670884\n",
      "DATING : 1.8648282097649187\n",
      "VIDEO_PLAYERS : 1.7970162748643763\n",
      "MAPS_AND_NAVIGATION : 1.3901446654611211\n",
      "FOOD_AND_DRINK : 1.2432188065099457\n",
      "EDUCATION : 1.164104882459313\n",
      "ENTERTAINMENT : 0.9606690777576853\n",
      "LIBRARIES_AND_DEMO : 0.9380650994575045\n",
      "AUTO_AND_VEHICLES : 0.9267631103074141\n",
      "HOUSE_AND_HOME : 0.8024412296564195\n",
      "WEATHER : 0.7911392405063291\n",
      "EVENTS : 0.7120253164556962\n",
      "PARENTING : 0.6555153707052441\n",
      "ART_AND_DESIGN : 0.6442133815551537\n",
      "COMICS : 0.6103074141048824\n",
      "BEAUTY : 0.599005424954792\n"
     ]
    }
   ],
   "source": [
    "# Android\n",
    "display_table(free_android_clean_eng, 9)\n",
    "print('\\n')\n",
    "display_table(free_android_clean_eng, 1)"
   ]
  },
  {
   "cell_type": "code",
   "execution_count": 123,
   "metadata": {},
   "outputs": [
    {
     "name": "stdout",
     "output_type": "stream",
     "text": [
      "Games : 55.64595660749507\n",
      "Entertainment : 8.234714003944774\n",
      "Photo & Video : 4.117357001972387\n",
      "Social Networking : 3.5256410256410255\n",
      "Education : 3.2544378698224854\n",
      "Shopping : 2.983234714003945\n",
      "Utilities : 2.687376725838264\n",
      "Lifestyle : 2.3175542406311638\n",
      "Finance : 2.0710059171597637\n",
      "Sports : 1.947731755424063\n",
      "Health & Fitness : 1.8737672583826428\n",
      "Music : 1.6518737672583828\n",
      "Book : 1.6272189349112427\n",
      "Productivity : 1.5285996055226825\n",
      "News : 1.4299802761341223\n",
      "Travel : 1.3806706114398422\n",
      "Food & Drink : 1.0601577909270217\n",
      "Weather : 0.7642998027613412\n",
      "Reference : 0.4930966469428008\n",
      "Navigation : 0.4930966469428008\n",
      "Business : 0.4930966469428008\n",
      "Catalogs : 0.22189349112426035\n",
      "Medical : 0.19723865877712032\n"
     ]
    }
   ],
   "source": [
    "# iOS\n",
    "display_table(free_ios_clean_eng, 11)\n"
   ]
  },
  {
   "cell_type": "code",
   "execution_count": null,
   "metadata": {},
   "outputs": [],
   "source": []
  }
 ],
 "metadata": {
  "kernelspec": {
   "display_name": "Python 3",
   "language": "python",
   "name": "python3"
  },
  "language_info": {
   "codemirror_mode": {
    "name": "ipython",
    "version": 3
   },
   "file_extension": ".py",
   "mimetype": "text/x-python",
   "name": "python",
   "nbconvert_exporter": "python",
   "pygments_lexer": "ipython3",
   "version": "3.7.4"
  }
 },
 "nbformat": 4,
 "nbformat_minor": 2
}
