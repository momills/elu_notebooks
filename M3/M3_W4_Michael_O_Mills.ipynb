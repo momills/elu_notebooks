{
 "cells": [
  {
   "cell_type": "markdown",
   "metadata": {},
   "source": [
    "# Applying EDA to Your Data\n",
    "Exploratory Data Analysis is the most exciting phase in data analysis. It help us understand the data better and figure out how to successfully solve the business problem - report our findings, do machine learning, etc.\n",
    "\n",
    "Download the Superstore dataset from:https://community.tableau.com/docs/DOC-1236 and do the following:\n",
    "\n",
    "Step 1: Import your data\n",
    "\n",
    "Step 2: Examine your data using pandas to:\n",
    "\n",
    "- show information about the number of rows and columns (shape of the data)\n",
    "\n",
    "- find the mean and median values, the unique values and plot your data to understand how distributed it is; do this for all columns. \n",
    "\n",
    "- create and display the correlation matrix; interpret it and tell what are the correlated features (if any)\n",
    "\n",
    "Don't limit yourself to the suggested steps and do anything else you find to be potentially useful to understand Superstore data better."
   ]
  },
  {
   "cell_type": "code",
   "execution_count": null,
   "metadata": {},
   "outputs": [],
   "source": []
  }
 ],
 "metadata": {
  "kernelspec": {
   "display_name": "Python 3",
   "language": "python",
   "name": "python3"
  },
  "language_info": {
   "codemirror_mode": {
    "name": "ipython",
    "version": 3
   },
   "file_extension": ".py",
   "mimetype": "text/x-python",
   "name": "python",
   "nbconvert_exporter": "python",
   "pygments_lexer": "ipython3",
   "version": "3.7.5"
  }
 },
 "nbformat": 4,
 "nbformat_minor": 2
}
