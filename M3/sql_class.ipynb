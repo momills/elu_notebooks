{
 "cells": [
  {
   "cell_type": "code",
   "execution_count": 1,
   "metadata": {},
   "outputs": [],
   "source": [
    "import sqlite3\n",
    "import pandas as pd"
   ]
  },
  {
   "cell_type": "code",
   "execution_count": 2,
   "metadata": {},
   "outputs": [],
   "source": [
    "db = 'database_name.db'"
   ]
  },
  {
   "cell_type": "markdown",
   "metadata": {},
   "source": [
    "### Write the query that will allow you to create your table"
   ]
  },
  {
   "cell_type": "code",
   "execution_count": 3,
   "metadata": {},
   "outputs": [],
   "source": [
    "query = \"\"\" CREATE TABLE IF NOT EXISTS iris (\n",
    "                                    sepal_length real,\n",
    "                                    sepal_width real,\n",
    "                                    petal_length real,\n",
    "                                    petal_width real,\n",
    "                                    target text\n",
    "                                ); \"\"\""
   ]
  },
  {
   "cell_type": "markdown",
   "metadata": {},
   "source": [
    "### Connect to your database and create a cursor that will allow you to interact with your db"
   ]
  },
  {
   "cell_type": "code",
   "execution_count": 4,
   "metadata": {},
   "outputs": [],
   "source": [
    "# start connection\n",
    "conn = sqlite3.connect(db)\n",
    "# allows you to execute queries\n",
    "cur = conn.cursor()"
   ]
  },
  {
   "cell_type": "markdown",
   "metadata": {},
   "source": [
    "### Execute the query previously written"
   ]
  },
  {
   "cell_type": "code",
   "execution_count": 5,
   "metadata": {},
   "outputs": [
    {
     "data": {
      "text/plain": [
       "<sqlite3.Cursor at 0x1082327a0>"
      ]
     },
     "execution_count": 5,
     "metadata": {},
     "output_type": "execute_result"
    }
   ],
   "source": [
    "cur.execute(query)"
   ]
  },
  {
   "cell_type": "markdown",
   "metadata": {},
   "source": [
    "### Close the connection"
   ]
  },
  {
   "cell_type": "code",
   "execution_count": 6,
   "metadata": {},
   "outputs": [],
   "source": [
    "conn.close()"
   ]
  },
  {
   "cell_type": "markdown",
   "metadata": {},
   "source": [
    "## Add some data to the table"
   ]
  },
  {
   "cell_type": "code",
   "execution_count": 7,
   "metadata": {},
   "outputs": [],
   "source": [
    "url = 'https://archive.ics.uci.edu/ml/machine-learning-databases/iris/iris.data'\n",
    "df = pd.read_csv(url, names='sepal_length sepal_width petal_length petal_width target'.split())"
   ]
  },
  {
   "cell_type": "code",
   "execution_count": 8,
   "metadata": {},
   "outputs": [
    {
     "data": {
      "text/plain": [
       "Iris-setosa        50\n",
       "Iris-virginica     50\n",
       "Iris-versicolor    50\n",
       "Name: target, dtype: int64"
      ]
     },
     "execution_count": 8,
     "metadata": {},
     "output_type": "execute_result"
    }
   ],
   "source": [
    "df.target.value_counts()"
   ]
  },
  {
   "cell_type": "code",
   "execution_count": 9,
   "metadata": {},
   "outputs": [
    {
     "data": {
      "text/html": [
       "<div>\n",
       "<style scoped>\n",
       "    .dataframe tbody tr th:only-of-type {\n",
       "        vertical-align: middle;\n",
       "    }\n",
       "\n",
       "    .dataframe tbody tr th {\n",
       "        vertical-align: top;\n",
       "    }\n",
       "\n",
       "    .dataframe thead th {\n",
       "        text-align: right;\n",
       "    }\n",
       "</style>\n",
       "<table border=\"1\" class=\"dataframe\">\n",
       "  <thead>\n",
       "    <tr style=\"text-align: right;\">\n",
       "      <th></th>\n",
       "      <th>sepal_length</th>\n",
       "      <th>sepal_width</th>\n",
       "      <th>petal_length</th>\n",
       "      <th>petal_width</th>\n",
       "      <th>target</th>\n",
       "    </tr>\n",
       "  </thead>\n",
       "  <tbody>\n",
       "    <tr>\n",
       "      <th>0</th>\n",
       "      <td>5.1</td>\n",
       "      <td>3.5</td>\n",
       "      <td>1.4</td>\n",
       "      <td>0.2</td>\n",
       "      <td>Iris-setosa</td>\n",
       "    </tr>\n",
       "    <tr>\n",
       "      <th>1</th>\n",
       "      <td>4.9</td>\n",
       "      <td>3.0</td>\n",
       "      <td>1.4</td>\n",
       "      <td>0.2</td>\n",
       "      <td>Iris-setosa</td>\n",
       "    </tr>\n",
       "    <tr>\n",
       "      <th>2</th>\n",
       "      <td>4.7</td>\n",
       "      <td>3.2</td>\n",
       "      <td>1.3</td>\n",
       "      <td>0.2</td>\n",
       "      <td>Iris-setosa</td>\n",
       "    </tr>\n",
       "    <tr>\n",
       "      <th>3</th>\n",
       "      <td>4.6</td>\n",
       "      <td>3.1</td>\n",
       "      <td>1.5</td>\n",
       "      <td>0.2</td>\n",
       "      <td>Iris-setosa</td>\n",
       "    </tr>\n",
       "    <tr>\n",
       "      <th>4</th>\n",
       "      <td>5.0</td>\n",
       "      <td>3.6</td>\n",
       "      <td>1.4</td>\n",
       "      <td>0.2</td>\n",
       "      <td>Iris-setosa</td>\n",
       "    </tr>\n",
       "  </tbody>\n",
       "</table>\n",
       "</div>"
      ],
      "text/plain": [
       "   sepal_length  sepal_width  petal_length  petal_width       target\n",
       "0           5.1          3.5           1.4          0.2  Iris-setosa\n",
       "1           4.9          3.0           1.4          0.2  Iris-setosa\n",
       "2           4.7          3.2           1.3          0.2  Iris-setosa\n",
       "3           4.6          3.1           1.5          0.2  Iris-setosa\n",
       "4           5.0          3.6           1.4          0.2  Iris-setosa"
      ]
     },
     "execution_count": 9,
     "metadata": {},
     "output_type": "execute_result"
    }
   ],
   "source": [
    "df.head()"
   ]
  },
  {
   "cell_type": "code",
   "execution_count": 10,
   "metadata": {},
   "outputs": [],
   "source": [
    "query = \"\"\"\n",
    "    INSERT INTO iris\n",
    "    (sepal_length, sepal_width, petal_length, petal_width, target)\n",
    "    VALUES ({}, {}, {}, {}, '{}')\n",
    "\"\"\""
   ]
  },
  {
   "cell_type": "markdown",
   "metadata": {},
   "source": [
    "### Remember: we closed the connection! Have to open it again"
   ]
  },
  {
   "cell_type": "code",
   "execution_count": 11,
   "metadata": {},
   "outputs": [],
   "source": [
    "conn = sqlite3.connect(db)\n",
    "cur = conn.cursor()"
   ]
  },
  {
   "cell_type": "code",
   "execution_count": 12,
   "metadata": {},
   "outputs": [
    {
     "name": "stdout",
     "output_type": "stream",
     "text": [
      "sepal_length            5.1\n",
      "sepal_width             3.5\n",
      "petal_length            1.4\n",
      "petal_width             0.2\n",
      "target          Iris-setosa\n",
      "Name: 0, dtype: object\n"
     ]
    }
   ],
   "source": [
    "for _, row in df.iterrows():\n",
    "    print(row)\n",
    "    break"
   ]
  },
  {
   "cell_type": "code",
   "execution_count": 13,
   "metadata": {},
   "outputs": [],
   "source": [
    "for _, row in df.iterrows():\n",
    "    cur.execute(query.format(row['sepal_length'], row['sepal_width'], row['petal_length'], row['petal_width'], row['target']))\n",
    "\n",
    "conn.commit()"
   ]
  },
  {
   "cell_type": "markdown",
   "metadata": {},
   "source": [
    "### Read data from a table"
   ]
  },
  {
   "cell_type": "code",
   "execution_count": 14,
   "metadata": {},
   "outputs": [
    {
     "data": {
      "text/plain": [
       "<sqlite3.Cursor at 0x1082819d0>"
      ]
     },
     "execution_count": 14,
     "metadata": {},
     "output_type": "execute_result"
    }
   ],
   "source": [
    "query = \"\"\"\n",
    "    SELECT * \n",
    "    FROM IRIS\n",
    "    WHERE TARGET='Iris-setosa'\n",
    "\"\"\"\n",
    "cur.execute(query)"
   ]
  },
  {
   "cell_type": "code",
   "execution_count": 15,
   "metadata": {},
   "outputs": [
    {
     "data": {
      "text/plain": [
       "[(5.1, 3.5, 1.4, 0.2, 'Iris-setosa'),\n",
       " (4.9, 3.0, 1.4, 0.2, 'Iris-setosa'),\n",
       " (4.7, 3.2, 1.3, 0.2, 'Iris-setosa'),\n",
       " (4.6, 3.1, 1.5, 0.2, 'Iris-setosa'),\n",
       " (5.0, 3.6, 1.4, 0.2, 'Iris-setosa'),\n",
       " (5.4, 3.9, 1.7, 0.4, 'Iris-setosa'),\n",
       " (4.6, 3.4, 1.4, 0.3, 'Iris-setosa'),\n",
       " (5.0, 3.4, 1.5, 0.2, 'Iris-setosa'),\n",
       " (4.4, 2.9, 1.4, 0.2, 'Iris-setosa'),\n",
       " (4.9, 3.1, 1.5, 0.1, 'Iris-setosa'),\n",
       " (5.4, 3.7, 1.5, 0.2, 'Iris-setosa'),\n",
       " (4.8, 3.4, 1.6, 0.2, 'Iris-setosa'),\n",
       " (4.8, 3.0, 1.4, 0.1, 'Iris-setosa'),\n",
       " (4.3, 3.0, 1.1, 0.1, 'Iris-setosa'),\n",
       " (5.8, 4.0, 1.2, 0.2, 'Iris-setosa'),\n",
       " (5.7, 4.4, 1.5, 0.4, 'Iris-setosa'),\n",
       " (5.4, 3.9, 1.3, 0.4, 'Iris-setosa'),\n",
       " (5.1, 3.5, 1.4, 0.3, 'Iris-setosa'),\n",
       " (5.7, 3.8, 1.7, 0.3, 'Iris-setosa'),\n",
       " (5.1, 3.8, 1.5, 0.3, 'Iris-setosa'),\n",
       " (5.4, 3.4, 1.7, 0.2, 'Iris-setosa'),\n",
       " (5.1, 3.7, 1.5, 0.4, 'Iris-setosa'),\n",
       " (4.6, 3.6, 1.0, 0.2, 'Iris-setosa'),\n",
       " (5.1, 3.3, 1.7, 0.5, 'Iris-setosa'),\n",
       " (4.8, 3.4, 1.9, 0.2, 'Iris-setosa'),\n",
       " (5.0, 3.0, 1.6, 0.2, 'Iris-setosa'),\n",
       " (5.0, 3.4, 1.6, 0.4, 'Iris-setosa'),\n",
       " (5.2, 3.5, 1.5, 0.2, 'Iris-setosa'),\n",
       " (5.2, 3.4, 1.4, 0.2, 'Iris-setosa'),\n",
       " (4.7, 3.2, 1.6, 0.2, 'Iris-setosa'),\n",
       " (4.8, 3.1, 1.6, 0.2, 'Iris-setosa'),\n",
       " (5.4, 3.4, 1.5, 0.4, 'Iris-setosa'),\n",
       " (5.2, 4.1, 1.5, 0.1, 'Iris-setosa'),\n",
       " (5.5, 4.2, 1.4, 0.2, 'Iris-setosa'),\n",
       " (4.9, 3.1, 1.5, 0.1, 'Iris-setosa'),\n",
       " (5.0, 3.2, 1.2, 0.2, 'Iris-setosa'),\n",
       " (5.5, 3.5, 1.3, 0.2, 'Iris-setosa'),\n",
       " (4.9, 3.1, 1.5, 0.1, 'Iris-setosa'),\n",
       " (4.4, 3.0, 1.3, 0.2, 'Iris-setosa'),\n",
       " (5.1, 3.4, 1.5, 0.2, 'Iris-setosa'),\n",
       " (5.0, 3.5, 1.3, 0.3, 'Iris-setosa'),\n",
       " (4.5, 2.3, 1.3, 0.3, 'Iris-setosa'),\n",
       " (4.4, 3.2, 1.3, 0.2, 'Iris-setosa'),\n",
       " (5.0, 3.5, 1.6, 0.6, 'Iris-setosa'),\n",
       " (5.1, 3.8, 1.9, 0.4, 'Iris-setosa'),\n",
       " (4.8, 3.0, 1.4, 0.3, 'Iris-setosa'),\n",
       " (5.1, 3.8, 1.6, 0.2, 'Iris-setosa'),\n",
       " (4.6, 3.2, 1.4, 0.2, 'Iris-setosa'),\n",
       " (5.3, 3.7, 1.5, 0.2, 'Iris-setosa'),\n",
       " (5.0, 3.3, 1.4, 0.2, 'Iris-setosa')]"
      ]
     },
     "execution_count": 15,
     "metadata": {},
     "output_type": "execute_result"
    }
   ],
   "source": [
    "cur.fetchall()"
   ]
  }
 ],
 "metadata": {
  "kernelspec": {
   "display_name": "Python 3",
   "language": "python",
   "name": "python3"
  },
  "language_info": {
   "codemirror_mode": {
    "name": "ipython",
    "version": 3
   },
   "file_extension": ".py",
   "mimetype": "text/x-python",
   "name": "python",
   "nbconvert_exporter": "python",
   "pygments_lexer": "ipython3",
   "version": "3.6.4"
  }
 },
 "nbformat": 4,
 "nbformat_minor": 2
}
