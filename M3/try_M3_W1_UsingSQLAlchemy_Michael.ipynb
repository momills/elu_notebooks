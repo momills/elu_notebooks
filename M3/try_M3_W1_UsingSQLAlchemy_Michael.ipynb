{
 "cells": [
  {
   "cell_type": "markdown",
   "metadata": {},
   "source": [
    "# Importing Data from SQL Database Using SQLAlchemy\n",
    "\n",
    "Step 1: Download the sample sqlite database from: http://www.sqlitetutorial.net/sqlite-sample-database/\n",
    "\n",
    "Step 2: Use sqlite3 package to make a connection to sqlite database from the downloaded file.\n",
    "\n",
    "Step 3: Make five different SQL queries that use commands like SELECT, WHERE, GROUP BY and JOIN (but don't limit yourself to these 4 only). You are welcome to go with more advanced queries (such as PARTITION BY, JOIN, etc.)"
   ]
  },
  {
   "cell_type": "code",
   "execution_count": 1,
   "metadata": {},
   "outputs": [],
   "source": [
    "import pandas as pd\n",
    "from sqlalchemy import create_engine\n",
    "engine = create_engine('sqlite:///chinook.db')"
   ]
  },
  {
   "cell_type": "markdown",
   "metadata": {},
   "source": [
    "### Connecting without context manager('with' statement) requires you to close connection after querries"
   ]
  },
  {
   "cell_type": "code",
   "execution_count": 2,
   "metadata": {},
   "outputs": [],
   "source": [
    "con = engine.connect()\n",
    "\n",
    "\n",
    "query0 = \"\"\"SELECT * \n",
    "            FROM customers ;\"\"\"\n",
    "q = con.execute(query0)\n",
    "df = pd.DataFrame(q.fetchall())\n",
    "df.columns = q.keys()\n",
    "#Close the connection\n",
    "con.close()"
   ]
  },
  {
   "cell_type": "code",
   "execution_count": 3,
   "metadata": {},
   "outputs": [
    {
     "name": "stdout",
     "output_type": "stream",
     "text": [
      "['CustomerId', 'FirstName', 'LastName', 'Company', 'Address', 'City', 'State', 'Country', 'PostalCode', 'Phone', 'Fax', 'Email', 'SupportRepId']\n"
     ]
    }
   ],
   "source": [
    "df.head()\n",
    "print(q.keys())"
   ]
  },
  {
   "cell_type": "markdown",
   "metadata": {},
   "source": [
    "### Connecting with context manager('with' statement)"
   ]
  },
  {
   "cell_type": "code",
   "execution_count": 4,
   "metadata": {},
   "outputs": [],
   "source": [
    "with engine.connect() as con:\n",
    "    query0 = \"\"\"SELECT * \n",
    "            FROM customers ;\"\"\"\n",
    "    q = con.execute(query0)\n",
    "    df = pd.DataFrame(q.fetchall())\n",
    "    df.columns = q.keys()"
   ]
  },
  {
   "cell_type": "markdown",
   "metadata": {},
   "source": [
    "### Queries to be executed"
   ]
  },
  {
   "cell_type": "code",
   "execution_count": 5,
   "metadata": {},
   "outputs": [],
   "source": [
    "# which customers have their support rep id between 3 and 4?\n",
    "query0 = \"\"\"SELECT * \n",
    "            FROM customers;\"\"\""
   ]
  },
  {
   "cell_type": "code",
   "execution_count": 6,
   "metadata": {},
   "outputs": [],
   "source": [
    "# which customers are either from Canada or have a yahoo email address?\n",
    "query1 = \"\"\"SELECT * \n",
    "            FROM customers \n",
    "            WHERE Country = 'Canada' or Email like '%yahoo%';\"\"\""
   ]
  },
  {
   "cell_type": "code",
   "execution_count": 7,
   "metadata": {},
   "outputs": [],
   "source": [
    "# which customers are from the united states? arrange them alphabetically by surname\n",
    "query2 = \"\"\"SELECT * \n",
    "            FROM customers \n",
    "            WHERE Country = 'USA'\n",
    "            GROUP BY Lastname;\"\"\""
   ]
  },
  {
   "cell_type": "code",
   "execution_count": 8,
   "metadata": {},
   "outputs": [],
   "source": [
    "# Which London customers are in there? show only address and first names\n",
    "query3 = \"\"\"SELECT Address, FirstName \n",
    "            FROM customers \n",
    "            WHERE city = 'London' ;\"\"\""
   ]
  },
  {
   "cell_type": "code",
   "execution_count": 9,
   "metadata": {},
   "outputs": [],
   "source": [
    "# Which customers reside in Italy and have null value for company? Only postcode and lastname\n",
    "query4 = \"\"\"SELECT PostalCode, LastName \n",
    "            FROM customers \n",
    "            WHERE Country = 'Italy' AND Company = 'NULL' ;\"\"\""
   ]
  },
  {
   "cell_type": "code",
   "execution_count": 10,
   "metadata": {},
   "outputs": [],
   "source": [
    "# which customers use gmail email addresses? only last name and addresses required\n",
    "query5 = \"\"\"SELECT LastName, Address \n",
    "            FROM customers \n",
    "            WHERE Email LIKE '%gmail%' ;\"\"\""
   ]
  },
  {
   "cell_type": "code",
   "execution_count": 11,
   "metadata": {},
   "outputs": [],
   "source": [
    "# Which artists have an Id 100 or below?\n",
    "query6 = \"\"\"SELECT * \n",
    "            FROM artists\n",
    "            WHERE ArtistId <= 100;\"\"\""
   ]
  },
  {
   "cell_type": "code",
   "execution_count": 12,
   "metadata": {},
   "outputs": [],
   "source": [
    "# Display the albums table\n",
    "query7 = \"\"\"SELECT * \n",
    "            FROM albums;\"\"\""
   ]
  },
  {
   "cell_type": "code",
   "execution_count": 13,
   "metadata": {},
   "outputs": [],
   "source": [
    "# List all artist Ids and their corresponding album titles from the artists and albums tables\n",
    "query8 = \"\"\"SELECT artists.ArtistId AS ArtistID, albums.Title AS Title\n",
    "            FROM artists\n",
    "            JOIN albums\n",
    "            ON artists.ArtistId = albums.ArtistId;\"\"\""
   ]
  },
  {
   "cell_type": "code",
   "execution_count": 14,
   "metadata": {},
   "outputs": [],
   "source": [
    "# Based on customer Id, which countries have the highest purchase?\n",
    "query9 = \"\"\"SELECT DISTINCT BillingCountry,\n",
    "            SUM(Total) OVER(PARTITION BY CustomerId) AS TotalOrderAmount\n",
    "            FROM invoices ;\"\"\""
   ]
  },
  {
   "cell_type": "markdown",
   "metadata": {},
   "source": [
    "### Connect to db and create a cursor for interaction"
   ]
  },
  {
   "cell_type": "code",
   "execution_count": 15,
   "metadata": {},
   "outputs": [
    {
     "ename": "NameError",
     "evalue": "name 'sql' is not defined",
     "output_type": "error",
     "traceback": [
      "\u001b[1;31m---------------------------------------------------------------------------\u001b[0m",
      "\u001b[1;31mNameError\u001b[0m                                 Traceback (most recent call last)",
      "\u001b[1;32m<ipython-input-15-3290b8d38dbe>\u001b[0m in \u001b[0;36m<module>\u001b[1;34m\u001b[0m\n\u001b[0;32m      1\u001b[0m \u001b[1;31m# start connection\u001b[0m\u001b[1;33m\u001b[0m\u001b[1;33m\u001b[0m\u001b[1;33m\u001b[0m\u001b[0m\n\u001b[0;32m      2\u001b[0m \u001b[0mdb\u001b[0m \u001b[1;33m=\u001b[0m \u001b[1;34m'chinook.db'\u001b[0m\u001b[1;33m\u001b[0m\u001b[1;33m\u001b[0m\u001b[0m\n\u001b[1;32m----> 3\u001b[1;33m \u001b[0mconn\u001b[0m \u001b[1;33m=\u001b[0m \u001b[0msql\u001b[0m\u001b[1;33m.\u001b[0m\u001b[0mconnect\u001b[0m\u001b[1;33m(\u001b[0m\u001b[0mdb\u001b[0m\u001b[1;33m)\u001b[0m\u001b[1;33m\u001b[0m\u001b[1;33m\u001b[0m\u001b[0m\n\u001b[0m\u001b[0;32m      4\u001b[0m \u001b[1;33m\u001b[0m\u001b[0m\n\u001b[0;32m      5\u001b[0m \u001b[1;31m# allows you to execute queries\u001b[0m\u001b[1;33m\u001b[0m\u001b[1;33m\u001b[0m\u001b[1;33m\u001b[0m\u001b[0m\n",
      "\u001b[1;31mNameError\u001b[0m: name 'sql' is not defined"
     ]
    }
   ],
   "source": [
    "# start connection\n",
    "db = 'chinook.db'\n",
    "conn = sql.connect(db)\n",
    "\n",
    "# allows you to execute queries\n",
    "#cur = conn.cursor()"
   ]
  },
  {
   "cell_type": "markdown",
   "metadata": {},
   "source": [
    "### Execute queries"
   ]
  },
  {
   "cell_type": "code",
   "execution_count": null,
   "metadata": {},
   "outputs": [],
   "source": [
    "#cur.execute(query1)\n",
    "\n",
    "#loop to run all queries into a dictionary of dataframes\n",
    "queries = [query0, query1, query2, query3, query4, query5, query6, query7, query8, query9]\n",
    "df={}\n",
    "\n",
    "for query in queries:\n",
    "    df_ = pd.read_sql_query(sql=query, con=conn) \n",
    "    df[query] = df_\n",
    "    \n",
    "\n",
    "#Close the connection\n",
    "conn.close()"
   ]
  },
  {
   "cell_type": "markdown",
   "metadata": {},
   "source": [
    "### Access the dataframe with specific query as key"
   ]
  },
  {
   "cell_type": "code",
   "execution_count": null,
   "metadata": {},
   "outputs": [],
   "source": [
    "df[query0].head(5)"
   ]
  },
  {
   "cell_type": "code",
   "execution_count": null,
   "metadata": {},
   "outputs": [],
   "source": [
    "df[query8].head()"
   ]
  },
  {
   "cell_type": "code",
   "execution_count": null,
   "metadata": {},
   "outputs": [],
   "source": [
    "df[query1].head()"
   ]
  },
  {
   "cell_type": "code",
   "execution_count": null,
   "metadata": {},
   "outputs": [],
   "source": []
  }
 ],
 "metadata": {
  "kernelspec": {
   "display_name": "Python 3",
   "language": "python",
   "name": "python3"
  },
  "language_info": {
   "codemirror_mode": {
    "name": "ipython",
    "version": 3
   },
   "file_extension": ".py",
   "mimetype": "text/x-python",
   "name": "python",
   "nbconvert_exporter": "python",
   "pygments_lexer": "ipython3",
   "version": "3.7.5"
  }
 },
 "nbformat": 4,
 "nbformat_minor": 2
}
