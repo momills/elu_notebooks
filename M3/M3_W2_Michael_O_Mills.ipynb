{
 "cells": [
  {
   "cell_type": "markdown",
   "metadata": {},
   "source": [
    "# Exporting the Weather Data"
   ]
  },
  {
   "cell_type": "markdown",
   "metadata": {},
   "source": [
    "Step 1: Create an account on [OpenWeatherMap](https://www.openweathermap.org/) webpage.\n",
    "\n",
    "Step 2: Once you have your OpenWeatherMap account, use [“5-day / 3-hour forecast”](https://openweathermap.org/forecast5) and [“Current Weather Data”](https://openweathermap.org/current) API calls to get the data for your city.\n",
    "\n",
    "Step 3: Print the data you obtained from API calls (optional: be creative if you want - visualize your data!).\n",
    "\n",
    "Step 4: Export the two datasets as separate CSV files."
   ]
  },
  {
   "cell_type": "code",
   "execution_count": 1,
   "metadata": {},
   "outputs": [],
   "source": [
    "import requests\n",
    "import json"
   ]
  },
  {
   "cell_type": "markdown",
   "metadata": {},
   "source": [
    "<br> "
   ]
  },
  {
   "cell_type": "code",
   "execution_count": 6,
   "metadata": {},
   "outputs": [],
   "source": [
    "base_url = 'api.openweathermap.org/'\n",
    "forecast = 'forecast5'\n",
    "current = 'current'\n",
    "pwd = '&APPID=83aa203ff52dec7ebcf3f07eaeb8b4ec'\n",
    "\n",
    "example = 'http://api.openweathermap.org/data/2.5/weather?q=Shanghai,cn&APPID=83aa203ff52dec7ebcf3f07eaeb8b4ec'\n",
    "response = requests.get(base_url + pwd)"
   ]
  },
  {
   "cell_type": "code",
   "execution_count": 7,
   "metadata": {},
   "outputs": [],
   "source": [
    "# this is because response.content comes in bytes, not in string. \n",
    "r = response.json()"
   ]
  },
  {
   "cell_type": "markdown",
   "metadata": {},
   "source": [
    "##### Start by making sure you are able to use the `requests` library. For this, make sure you are able to get information from two different endpoints on the [breaking news api](https://rapidapi.com/MyAllies/api/breaking-news).\n",
    "\n",
    "The two endpoints you should be able to query are:\n",
    "* Real-time News Feed\n",
    "* GetCompanyDetailsBySymbol"
   ]
  },
  {
   "cell_type": "code",
   "execution_count": 10,
   "metadata": {},
   "outputs": [
    {
     "name": "stdout",
     "output_type": "stream",
     "text": [
      "{\"Data\":[],\"EventMessage\":null}\n"
     ]
    }
   ],
   "source": [
    "url = \"https://myallies-breaking-news-v1.p.rapidapi.com/GetTopNews\"\n",
    "\n",
    "headers = {\n",
    "    'x-rapidapi-host': \"myallies-breaking-news-v1.p.rapidapi.com\",\n",
    "    'x-rapidapi-key': \"94a24520femsh63b226c68e617afp13f170jsn5703333a2e57\"\n",
    "    }\n",
    "\n",
    "response = requests.request(\"GET\", url, headers=headers)\n",
    "\n",
    "print(response.text)"
   ]
  },
  {
   "cell_type": "code",
   "execution_count": 11,
   "metadata": {},
   "outputs": [
    {
     "name": "stdout",
     "output_type": "stream",
     "text": [
      "{\"Data\":{\"ID\":33430,\"Symbol\":\"TWTR\",\"Name\":\"Twitter, Inc.\",\"ISIN\":\"US90184L1026\",\"CIK\":1418091,\"TradeCount\":29,\"ViewCount\":97180,\"Stock\":{\"CompanyID\":33430,\"LastPriceDate\":\"01/31/2020 09:07\",\"LastExchangeDate\":\"01/31/2020 09:12\",\"MarketCapitalization\":null,\"FrankfurtLastPrice\":0.00,\"LastUpdated\":\"01/31/2020 09:12\",\"Price\":null,\"Close\":33.22,\"PreviousClose\":33.63,\"Id\":0},\"Stream\":null,\"LogoPath\":\"/temp/company/33430\\\\ceb704c88e4d41c8b1485cf50a1d5ee4.jpg\"},\"EventMessage\":null}\n"
     ]
    }
   ],
   "source": [
    "url = \"https://myallies-breaking-news-v1.p.rapidapi.com/GetCompanyDetailsBySymbol\"\n",
    "\n",
    "querystring = {\"symbol\":\"twtr\"}\n",
    "\n",
    "headers = {\n",
    "    'x-rapidapi-host': \"myallies-breaking-news-v1.p.rapidapi.com\",\n",
    "    'x-rapidapi-key': \"94a24520femsh63b226c68e617afp13f170jsn5703333a2e57\"\n",
    "    }\n",
    "\n",
    "response = requests.request(\"GET\", url, headers=headers, params=querystring)\n",
    "\n",
    "print(response.text)"
   ]
  }
 ],
 "metadata": {
  "kernelspec": {
   "display_name": "Python 3",
   "language": "python",
   "name": "python3"
  },
  "language_info": {
   "codemirror_mode": {
    "name": "ipython",
    "version": 3
   },
   "file_extension": ".py",
   "mimetype": "text/x-python",
   "name": "python",
   "nbconvert_exporter": "python",
   "pygments_lexer": "ipython3",
   "version": "3.7.5"
  }
 },
 "nbformat": 4,
 "nbformat_minor": 2
}
