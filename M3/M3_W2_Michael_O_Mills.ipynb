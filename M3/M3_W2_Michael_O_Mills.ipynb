{
 "cells": [
  {
   "cell_type": "markdown",
   "metadata": {},
   "source": [
    "# Exporting the Weather Data"
   ]
  },
  {
   "cell_type": "markdown",
   "metadata": {},
   "source": [
    "Step 1: Create an account on [OpenWeatherMap](https://www.openweathermap.org/) webpage.\n",
    "\n",
    "Step 2: Once you have your OpenWeatherMap account, use [“5-day / 3-hour forecast”](https://openweathermap.org/forecast5) and [“Current Weather Data”](https://openweathermap.org/current). API calls to get the data for your city.\n",
    "\n",
    "Step 3: Print the data you obtained from API calls (optional: be creative if you want - visualize your data!).\n",
    "\n",
    "Step 4: Export the two datasets as separate CSV files."
   ]
  },
  {
   "cell_type": "code",
   "execution_count": 1,
   "metadata": {},
   "outputs": [],
   "source": [
    "import requests\n",
    "import json"
   ]
  },
  {
   "cell_type": "code",
   "execution_count": 2,
   "metadata": {},
   "outputs": [],
   "source": [
    "response = requests.get('http://jservice.io/api/categories?count=2')"
   ]
  },
  {
   "cell_type": "markdown",
   "metadata": {},
   "source": [
    "<br> "
   ]
  },
  {
   "cell_type": "markdown",
   "metadata": {},
   "source": [
    "## Going through an example to see how things work and nail some concepts! "
   ]
  },
  {
   "cell_type": "markdown",
   "metadata": {},
   "source": [
    "* OpenNotify has several API endpoints. An endpoint is a server route that is used to retrieve different data from the API. You cand find these endpoints by reading the API's documentation "
   ]
  },
  {
   "cell_type": "code",
   "execution_count": 6,
   "metadata": {},
   "outputs": [],
   "source": [
    "base_url = 'http://api.open-notify.org/'\n",
    "end_point = 'iss-now.json'\n",
    "response = requests.get(base_url + end_point)"
   ]
  },
  {
   "cell_type": "code",
   "execution_count": 7,
   "metadata": {},
   "outputs": [],
   "source": [
    "# this is because response.content comes in bytes, not in string. \n",
    "r = response.json()"
   ]
  },
  {
   "cell_type": "code",
   "execution_count": 8,
   "metadata": {},
   "outputs": [],
   "source": [
    "#info_iss['iss_position']"
   ]
  },
  {
   "cell_type": "markdown",
   "metadata": {},
   "source": [
    "### Let's pass some parameters to the query in order to get some data about a new end_point"
   ]
  },
  {
   "cell_type": "markdown",
   "metadata": {},
   "source": [
    "What I will show next is the equivalent of making the following request `http://api.open-notify.org/iss-pass.json?lat=40.71&lon=-74`\n"
   ]
  },
  {
   "cell_type": "code",
   "execution_count": 9,
   "metadata": {},
   "outputs": [
    {
     "data": {
      "text/plain": [
       "{'message': 'success',\n",
       " 'request': {'altitude': 100,\n",
       "  'datetime': 1580461131,\n",
       "  'latitude': 40.71,\n",
       "  'longitude': -74.0,\n",
       "  'passes': 5},\n",
       " 'response': [{'duration': 541, 'risetime': 1580493826},\n",
       "  {'duration': 658, 'risetime': 1580499550},\n",
       "  {'duration': 601, 'risetime': 1580505413},\n",
       "  {'duration': 564, 'risetime': 1580511301},\n",
       "  {'duration': 624, 'risetime': 1580517132}]}"
      ]
     },
     "execution_count": 9,
     "metadata": {},
     "output_type": "execute_result"
    }
   ],
   "source": [
    "# according to the documentation (request library) your params need to be a dictionary\n",
    "parameters = {\"lat\": 40.71, \"lon\": -74}\n",
    "\n",
    "# specify the endpoint and the params you want to pass\n",
    "response = requests.get(\"http://api.open-notify.org/iss-pass.json\", params=parameters)\n",
    "\n",
    "# convert the response to something we can use. \n",
    "r = response.content.decode('utf-8')\n",
    "\n",
    "# because this is a json we still need to convert\n",
    "r_ = json.loads(r)\n",
    "r_ # much better"
   ]
  },
  {
   "cell_type": "markdown",
   "metadata": {},
   "source": [
    "# Work in class"
   ]
  },
  {
   "cell_type": "markdown",
   "metadata": {},
   "source": [
    "# Exercise 1 "
   ]
  },
  {
   "cell_type": "markdown",
   "metadata": {},
   "source": [
    "##### Start by making sure you are able to use the `requests` library. For this, make sure you are able to get information from two different endpoints on the [breaking news api](https://rapidapi.com/MyAllies/api/breaking-news).\n",
    "\n",
    "The two endpoints you should be able to query are:\n",
    "* Real-time News Feed\n",
    "* GetCompanyDetailsBySymbol"
   ]
  },
  {
   "cell_type": "code",
   "execution_count": 10,
   "metadata": {},
   "outputs": [
    {
     "name": "stdout",
     "output_type": "stream",
     "text": [
      "{\"Data\":[],\"EventMessage\":null}\n"
     ]
    }
   ],
   "source": [
    "url = \"https://myallies-breaking-news-v1.p.rapidapi.com/GetTopNews\"\n",
    "\n",
    "headers = {\n",
    "    'x-rapidapi-host': \"myallies-breaking-news-v1.p.rapidapi.com\",\n",
    "    'x-rapidapi-key': \"94a24520femsh63b226c68e617afp13f170jsn5703333a2e57\"\n",
    "    }\n",
    "\n",
    "response = requests.request(\"GET\", url, headers=headers)\n",
    "\n",
    "print(response.text)"
   ]
  },
  {
   "cell_type": "code",
   "execution_count": 11,
   "metadata": {},
   "outputs": [
    {
     "name": "stdout",
     "output_type": "stream",
     "text": [
      "{\"Data\":{\"ID\":33430,\"Symbol\":\"TWTR\",\"Name\":\"Twitter, Inc.\",\"ISIN\":\"US90184L1026\",\"CIK\":1418091,\"TradeCount\":29,\"ViewCount\":97180,\"Stock\":{\"CompanyID\":33430,\"LastPriceDate\":\"01/31/2020 09:07\",\"LastExchangeDate\":\"01/31/2020 09:12\",\"MarketCapitalization\":null,\"FrankfurtLastPrice\":0.00,\"LastUpdated\":\"01/31/2020 09:12\",\"Price\":null,\"Close\":33.22,\"PreviousClose\":33.63,\"Id\":0},\"Stream\":null,\"LogoPath\":\"/temp/company/33430\\\\ceb704c88e4d41c8b1485cf50a1d5ee4.jpg\"},\"EventMessage\":null}\n"
     ]
    }
   ],
   "source": [
    "url = \"https://myallies-breaking-news-v1.p.rapidapi.com/GetCompanyDetailsBySymbol\"\n",
    "\n",
    "querystring = {\"symbol\":\"twtr\"}\n",
    "\n",
    "headers = {\n",
    "    'x-rapidapi-host': \"myallies-breaking-news-v1.p.rapidapi.com\",\n",
    "    'x-rapidapi-key': \"94a24520femsh63b226c68e617afp13f170jsn5703333a2e57\"\n",
    "    }\n",
    "\n",
    "response = requests.request(\"GET\", url, headers=headers, params=querystring)\n",
    "\n",
    "print(response.text)"
   ]
  },
  {
   "cell_type": "markdown",
   "metadata": {},
   "source": [
    "# Exercise 2 "
   ]
  },
  {
   "cell_type": "markdown",
   "metadata": {},
   "source": [
    "##### You will be the weather man/woman for this one! Use the [weather api](https://openweathermap.org/) and make sure you specifiy your own project! The script you will write is meant to be running continuously, so you should specify exactly what your project is and then execute. "
   ]
  }
 ],
 "metadata": {
  "kernelspec": {
   "display_name": "Python 3",
   "language": "python",
   "name": "python3"
  },
  "language_info": {
   "codemirror_mode": {
    "name": "ipython",
    "version": 3
   },
   "file_extension": ".py",
   "mimetype": "text/x-python",
   "name": "python",
   "nbconvert_exporter": "python",
   "pygments_lexer": "ipython3",
   "version": "3.7.5"
  }
 },
 "nbformat": 4,
 "nbformat_minor": 2
}
