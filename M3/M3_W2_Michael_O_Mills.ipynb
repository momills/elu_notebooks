{
 "cells": [
  {
   "cell_type": "markdown",
   "metadata": {},
   "source": [
    "# Exporting the Weather Data"
   ]
  },
  {
   "cell_type": "markdown",
   "metadata": {},
   "source": [
    "Step 1: Create an account on [OpenWeatherMap](https://www.openweathermap.org/) webpage.\n",
    "\n",
    "Step 2: Once you have your OpenWeatherMap account, use [“5-day / 3-hour forecast”](https://openweathermap.org/forecast5) and [“Current Weather Data”](https://openweathermap.org/current) API calls to get the data for your city.\n",
    "\n",
    "Step 3: Print the data you obtained from API calls (optional: be creative if you want - visualize your data!).\n",
    "\n",
    "Step 4: Export the two datasets as separate CSV files."
   ]
  },
  {
   "cell_type": "code",
   "execution_count": 1,
   "metadata": {},
   "outputs": [],
   "source": [
    "import requests\n",
    "import json"
   ]
  },
  {
   "cell_type": "markdown",
   "metadata": {},
   "source": [
    "<br> "
   ]
  },
  {
   "cell_type": "code",
   "execution_count": 2,
   "metadata": {},
   "outputs": [],
   "source": [
    "base_url = 'http://api.openweathermap.org/data/2.5/'\n",
    "key = '&APPID=83aa203ff52dec7ebcf3f07eaeb8b4ec'\n",
    "my_city = 'q=Shanghai,cn'\n",
    "\n",
    "forecast_url = base_url + 'forecast?'\n",
    "current_url = base_url + 'weather?'\n"
   ]
  },
  {
   "cell_type": "code",
   "execution_count": 3,
   "metadata": {},
   "outputs": [
    {
     "name": "stdout",
     "output_type": "stream",
     "text": [
      "200 200\n"
     ]
    }
   ],
   "source": [
    "forecast_response = requests.get(forecast_url + my_city + key)\n",
    "current_response = requests.get(current_url + my_city + key)\n",
    "\n",
    "#Expect 200 for HTTP status code query from both requests\n",
    "print(forecast_response.status_code, current_response.status_code)"
   ]
  },
  {
   "cell_type": "code",
   "execution_count": 4,
   "metadata": {},
   "outputs": [],
   "source": [
    "# this is because ..._response.content comes in bytes, not in string. \n",
    "f_r = forecast_response.json()\n",
    "c_r = current_response.json()"
   ]
  }
 ],
 "metadata": {
  "kernelspec": {
   "display_name": "Python 3",
   "language": "python",
   "name": "python3"
  },
  "language_info": {
   "codemirror_mode": {
    "name": "ipython",
    "version": 3
   },
   "file_extension": ".py",
   "mimetype": "text/x-python",
   "name": "python",
   "nbconvert_exporter": "python",
   "pygments_lexer": "ipython3",
   "version": "3.7.5"
  }
 },
 "nbformat": 4,
 "nbformat_minor": 2
}
