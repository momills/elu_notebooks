{
 "cells": [
  {
   "cell_type": "markdown",
   "metadata": {},
   "source": [
    "# Exporting the Weather Data"
   ]
  },
  {
   "cell_type": "markdown",
   "metadata": {},
   "source": [
    "Step 1: Create an account on [OpenWeatherMap](https://www.openweathermap.org/) webpage.\n",
    "\n",
    "Step 2: Once you have your OpenWeatherMap account, use [“5-day / 3-hour forecast”](https://openweathermap.org/forecast5) and [“Current Weather Data”](https://openweathermap.org/current) API calls to get the data for your city.\n",
    "\n",
    "Step 3: Print the data you obtained from API calls (optional: be creative if you want - visualize your data!).\n",
    "\n",
    "Step 4: Export the two datasets as separate CSV files."
   ]
  },
  {
   "cell_type": "code",
   "execution_count": 9,
   "metadata": {},
   "outputs": [],
   "source": [
    "import requests\n",
    "import json\n",
    "import pandas as pd"
   ]
  },
  {
   "cell_type": "code",
   "execution_count": 2,
   "metadata": {},
   "outputs": [],
   "source": [
    "base_url = 'http://api.openweathermap.org/data/2.5/'\n",
    "key = '&APPID=83aa203ff52dec7ebcf3f07eaeb8b4ec'\n",
    "my_city = 'q=Shanghai,cn'\n",
    "\n",
    "forecast_url = base_url + 'forecast?'\n",
    "current_url = base_url + 'weather?'\n"
   ]
  },
  {
   "cell_type": "code",
   "execution_count": 3,
   "metadata": {},
   "outputs": [
    {
     "name": "stdout",
     "output_type": "stream",
     "text": [
      "200 200\n"
     ]
    }
   ],
   "source": [
    "forecast_response = requests.get(forecast_url + my_city + key)\n",
    "current_response = requests.get(current_url + my_city + key)\n",
    "\n",
    "# Expect 200 for HTTP status code query from both requests\n",
    "print(forecast_response.status_code, current_response.status_code)"
   ]
  },
  {
   "cell_type": "code",
   "execution_count": 11,
   "metadata": {},
   "outputs": [],
   "source": [
    "# this is because ..._response.content comes in bytes, not in string -> json to dict \n",
    "f_r = forecast_response.json()\n",
    "c_r = current_response.json()"
   ]
  },
  {
   "cell_type": "markdown",
   "metadata": {},
   "source": [
    "### Exploring the Current Weather Data"
   ]
  },
  {
   "cell_type": "code",
   "execution_count": 17,
   "metadata": {
    "scrolled": true
   },
   "outputs": [
    {
     "name": "stdout",
     "output_type": "stream",
     "text": [
      "coord:  {'lon': 121.46, 'lat': 31.22}\n",
      "weather:  [{'id': 800, 'main': 'Clear', 'description': 'clear sky', 'icon': '01n'}]\n",
      "base:  stations\n",
      "main:  {'temp': 281.06, 'feels_like': 277.94, 'temp_min': 280.15, 'temp_max': 282.04, 'pressure': 1027, 'humidity': 65}\n",
      "visibility:  10000\n",
      "wind:  {'speed': 2, 'deg': 240}\n",
      "clouds:  {'all': 0}\n",
      "dt:  1581248553\n",
      "sys:  {'type': 1, 'id': 9659, 'country': 'CN', 'sunrise': 1581201695, 'sunset': 1581240912}\n",
      "timezone:  28800\n",
      "id:  1796236\n",
      "name:  Shanghai\n",
      "cod:  200\n"
     ]
    }
   ],
   "source": [
    "for k in c_r.keys():\n",
    "    print(k + ': ', c_r[k])"
   ]
  },
  {
   "cell_type": "markdown",
   "metadata": {},
   "source": [
    "*Visualizing the **temparature** data from the Current Weather Data*"
   ]
  },
  {
   "cell_type": "code",
   "execution_count": 31,
   "metadata": {},
   "outputs": [
    {
     "data": {
      "text/plain": [
       "{'temp': 281.06, 'feels_like': 277.94, 'temp_min': 280.15, 'temp_max': 282.04}"
      ]
     },
     "execution_count": 31,
     "metadata": {},
     "output_type": "execute_result"
    }
   ],
   "source": [
    "current_temp = {}\n",
    "for key,value in c_r['main'].items():\n",
    "    if isinstance(value, float):\n",
    "        current_temp[key] = value\n",
    "current_temp"
   ]
  },
  {
   "cell_type": "markdown",
   "metadata": {},
   "source": [
    "### Exploring the Forecast Weather Data"
   ]
  },
  {
   "cell_type": "code",
   "execution_count": 19,
   "metadata": {},
   "outputs": [
    {
     "name": "stdout",
     "output_type": "stream",
     "text": [
      "cod:  200\n",
      "message:  0\n",
      "cnt:  40\n",
      "list:  [{'dt': 1581249600, 'main': {'temp': 279.87, 'feels_like': 276.45, 'temp_min': 279.87, 'temp_max': 282.4, 'pressure': 1028, 'sea_level': 1028, 'grnd_level': 1027, 'humidity': 48, 'temp_kf': -2.53}, 'weather': [{'id': 800, 'main': 'Clear', 'description': 'clear sky', 'icon': '01n'}], 'clouds': {'all': 0}, 'wind': {'speed': 1.39, 'deg': 269}, 'sys': {'pod': 'n'}, 'dt_txt': '2020-02-09 12:00:00'}, {'dt': 1581260400, 'main': {'temp': 279.26, 'feels_like': 276.02, 'temp_min': 279.26, 'temp_max': 281.16, 'pressure': 1028, 'sea_level': 1028, 'grnd_level': 1027, 'humidity': 55, 'temp_kf': -1.9}, 'weather': [{'id': 800, 'main': 'Clear', 'description': 'clear sky', 'icon': '01n'}], 'clouds': {'all': 0}, 'wind': {'speed': 1.36, 'deg': 241}, 'sys': {'pod': 'n'}, 'dt_txt': '2020-02-09 15:00:00'}, {'dt': 1581271200, 'main': {'temp': 278.8, 'feels_like': 275.46, 'temp_min': 278.8, 'temp_max': 280.06, 'pressure': 1027, 'sea_level': 1027, 'grnd_level': 1026, 'humidity': 63, 'temp_kf': -1.26}, 'weather': [{'id': 800, 'main': 'Clear', 'description': 'clear sky', 'icon': '01n'}], 'clouds': {'all': 0}, 'wind': {'speed': 1.76, 'deg': 236}, 'sys': {'pod': 'n'}, 'dt_txt': '2020-02-09 18:00:00'}, {'dt': 1581282000, 'main': {'temp': 278.68, 'feels_like': 275.62, 'temp_min': 278.68, 'temp_max': 279.31, 'pressure': 1027, 'sea_level': 1027, 'grnd_level': 1026, 'humidity': 69, 'temp_kf': -0.63}, 'weather': [{'id': 800, 'main': 'Clear', 'description': 'clear sky', 'icon': '01n'}], 'clouds': {'all': 0}, 'wind': {'speed': 1.6, 'deg': 233}, 'sys': {'pod': 'n'}, 'dt_txt': '2020-02-09 21:00:00'}, {'dt': 1581292800, 'main': {'temp': 280.24, 'feels_like': 277.13, 'temp_min': 280.24, 'temp_max': 280.24, 'pressure': 1027, 'sea_level': 1027, 'grnd_level': 1026, 'humidity': 69, 'temp_kf': 0}, 'weather': [{'id': 801, 'main': 'Clouds', 'description': 'few clouds', 'icon': '02d'}], 'clouds': {'all': 21}, 'wind': {'speed': 2, 'deg': 213}, 'sys': {'pod': 'd'}, 'dt_txt': '2020-02-10 00:00:00'}, {'dt': 1581303600, 'main': {'temp': 285.14, 'feels_like': 281.4, 'temp_min': 285.14, 'temp_max': 285.14, 'pressure': 1027, 'sea_level': 1027, 'grnd_level': 1027, 'humidity': 48, 'temp_kf': 0}, 'weather': [{'id': 803, 'main': 'Clouds', 'description': 'broken clouds', 'icon': '04d'}], 'clouds': {'all': 63}, 'wind': {'speed': 2.8, 'deg': 190}, 'sys': {'pod': 'd'}, 'dt_txt': '2020-02-10 03:00:00'}, {'dt': 1581314400, 'main': {'temp': 286.52, 'feels_like': 281.9, 'temp_min': 286.52, 'temp_max': 286.52, 'pressure': 1024, 'sea_level': 1024, 'grnd_level': 1024, 'humidity': 35, 'temp_kf': 0}, 'weather': [{'id': 802, 'main': 'Clouds', 'description': 'scattered clouds', 'icon': '03d'}], 'clouds': {'all': 42}, 'wind': {'speed': 3.41, 'deg': 167}, 'sys': {'pod': 'd'}, 'dt_txt': '2020-02-10 06:00:00'}, {'dt': 1581325200, 'main': {'temp': 284.87, 'feels_like': 280.14, 'temp_min': 284.87, 'temp_max': 284.87, 'pressure': 1024, 'sea_level': 1024, 'grnd_level': 1024, 'humidity': 40, 'temp_kf': 0}, 'weather': [{'id': 801, 'main': 'Clouds', 'description': 'few clouds', 'icon': '02d'}], 'clouds': {'all': 18}, 'wind': {'speed': 3.63, 'deg': 134}, 'sys': {'pod': 'd'}, 'dt_txt': '2020-02-10 09:00:00'}, {'dt': 1581336000, 'main': {'temp': 283.18, 'feels_like': 278.67, 'temp_min': 283.18, 'temp_max': 283.18, 'pressure': 1024, 'sea_level': 1024, 'grnd_level': 1024, 'humidity': 59, 'temp_kf': 0}, 'weather': [{'id': 803, 'main': 'Clouds', 'description': 'broken clouds', 'icon': '04n'}], 'clouds': {'all': 54}, 'wind': {'speed': 4.15, 'deg': 141}, 'sys': {'pod': 'n'}, 'dt_txt': '2020-02-10 12:00:00'}, {'dt': 1581346800, 'main': {'temp': 283.12, 'feels_like': 278.25, 'temp_min': 283.12, 'temp_max': 283.12, 'pressure': 1024, 'sea_level': 1024, 'grnd_level': 1024, 'humidity': 61, 'temp_kf': 0}, 'weather': [{'id': 804, 'main': 'Clouds', 'description': 'overcast clouds', 'icon': '04n'}], 'clouds': {'all': 100}, 'wind': {'speed': 4.76, 'deg': 152}, 'sys': {'pod': 'n'}, 'dt_txt': '2020-02-10 15:00:00'}, {'dt': 1581357600, 'main': {'temp': 283.22, 'feels_like': 278.25, 'temp_min': 283.22, 'temp_max': 283.22, 'pressure': 1023, 'sea_level': 1023, 'grnd_level': 1023, 'humidity': 63, 'temp_kf': 0}, 'weather': [{'id': 804, 'main': 'Clouds', 'description': 'overcast clouds', 'icon': '04n'}], 'clouds': {'all': 100}, 'wind': {'speed': 5.05, 'deg': 159}, 'sys': {'pod': 'n'}, 'dt_txt': '2020-02-10 18:00:00'}, {'dt': 1581368400, 'main': {'temp': 283.56, 'feels_like': 278.97, 'temp_min': 283.56, 'temp_max': 283.56, 'pressure': 1023, 'sea_level': 1023, 'grnd_level': 1022, 'humidity': 68, 'temp_kf': 0}, 'weather': [{'id': 804, 'main': 'Clouds', 'description': 'overcast clouds', 'icon': '04n'}], 'clouds': {'all': 100}, 'wind': {'speed': 4.88, 'deg': 151}, 'sys': {'pod': 'n'}, 'dt_txt': '2020-02-10 21:00:00'}, {'dt': 1581379200, 'main': {'temp': 283.85, 'feels_like': 279.46, 'temp_min': 283.85, 'temp_max': 283.85, 'pressure': 1023, 'sea_level': 1023, 'grnd_level': 1023, 'humidity': 75, 'temp_kf': 0}, 'weather': [{'id': 804, 'main': 'Clouds', 'description': 'overcast clouds', 'icon': '04d'}], 'clouds': {'all': 100}, 'wind': {'speed': 5.1, 'deg': 155}, 'sys': {'pod': 'd'}, 'dt_txt': '2020-02-11 00:00:00'}, {'dt': 1581390000, 'main': {'temp': 283.86, 'feels_like': 279.54, 'temp_min': 283.86, 'temp_max': 283.86, 'pressure': 1024, 'sea_level': 1024, 'grnd_level': 1023, 'humidity': 85, 'temp_kf': 0}, 'weather': [{'id': 500, 'main': 'Rain', 'description': 'light rain', 'icon': '10d'}], 'clouds': {'all': 100}, 'wind': {'speed': 5.61, 'deg': 170}, 'rain': {'3h': 0.94}, 'sys': {'pod': 'd'}, 'dt_txt': '2020-02-11 03:00:00'}, {'dt': 1581400800, 'main': {'temp': 282.5, 'feels_like': 280.02, 'temp_min': 282.5, 'temp_max': 282.5, 'pressure': 1021, 'sea_level': 1021, 'grnd_level': 1020, 'humidity': 85, 'temp_kf': 0}, 'weather': [{'id': 500, 'main': 'Rain', 'description': 'light rain', 'icon': '10d'}], 'clouds': {'all': 100}, 'wind': {'speed': 2.53, 'deg': 194}, 'rain': {'3h': 1.69}, 'sys': {'pod': 'd'}, 'dt_txt': '2020-02-11 06:00:00'}, {'dt': 1581411600, 'main': {'temp': 283.65, 'feels_like': 281.62, 'temp_min': 283.65, 'temp_max': 283.65, 'pressure': 1020, 'sea_level': 1020, 'grnd_level': 1020, 'humidity': 95, 'temp_kf': 0}, 'weather': [{'id': 500, 'main': 'Rain', 'description': 'light rain', 'icon': '10d'}], 'clouds': {'all': 100}, 'wind': {'speed': 2.86, 'deg': 165}, 'rain': {'3h': 0.56}, 'sys': {'pod': 'd'}, 'dt_txt': '2020-02-11 09:00:00'}, {'dt': 1581422400, 'main': {'temp': 283.88, 'feels_like': 282.64, 'temp_min': 283.88, 'temp_max': 283.88, 'pressure': 1020, 'sea_level': 1020, 'grnd_level': 1019, 'humidity': 98, 'temp_kf': 0}, 'weather': [{'id': 500, 'main': 'Rain', 'description': 'light rain', 'icon': '10n'}], 'clouds': {'all': 100}, 'wind': {'speed': 2.01, 'deg': 194}, 'rain': {'3h': 1.38}, 'sys': {'pod': 'n'}, 'dt_txt': '2020-02-11 12:00:00'}, {'dt': 1581433200, 'main': {'temp': 283.85, 'feels_like': 283.14, 'temp_min': 283.85, 'temp_max': 283.85, 'pressure': 1019, 'sea_level': 1019, 'grnd_level': 1018, 'humidity': 96, 'temp_kf': 0}, 'weather': [{'id': 500, 'main': 'Rain', 'description': 'light rain', 'icon': '10n'}], 'clouds': {'all': 100}, 'wind': {'speed': 1.11, 'deg': 197}, 'rain': {'3h': 0.5}, 'sys': {'pod': 'n'}, 'dt_txt': '2020-02-11 15:00:00'}, {'dt': 1581444000, 'main': {'temp': 283.95, 'feels_like': 283.16, 'temp_min': 283.95, 'temp_max': 283.95, 'pressure': 1018, 'sea_level': 1018, 'grnd_level': 1017, 'humidity': 93, 'temp_kf': 0}, 'weather': [{'id': 804, 'main': 'Clouds', 'description': 'overcast clouds', 'icon': '04n'}], 'clouds': {'all': 100}, 'wind': {'speed': 1.09, 'deg': 225}, 'sys': {'pod': 'n'}, 'dt_txt': '2020-02-11 18:00:00'}, {'dt': 1581454800, 'main': {'temp': 283.64, 'feels_like': 282.79, 'temp_min': 283.64, 'temp_max': 283.64, 'pressure': 1017, 'sea_level': 1017, 'grnd_level': 1017, 'humidity': 94, 'temp_kf': 0}, 'weather': [{'id': 500, 'main': 'Rain', 'description': 'light rain', 'icon': '10n'}], 'clouds': {'all': 100}, 'wind': {'speed': 1.12, 'deg': 262}, 'rain': {'3h': 1.44}, 'sys': {'pod': 'n'}, 'dt_txt': '2020-02-11 21:00:00'}, {'dt': 1581465600, 'main': {'temp': 283.73, 'feels_like': 282.7, 'temp_min': 283.73, 'temp_max': 283.73, 'pressure': 1018, 'sea_level': 1018, 'grnd_level': 1018, 'humidity': 93, 'temp_kf': 0}, 'weather': [{'id': 500, 'main': 'Rain', 'description': 'light rain', 'icon': '10d'}], 'clouds': {'all': 100}, 'wind': {'speed': 1.34, 'deg': 264}, 'rain': {'3h': 0.31}, 'sys': {'pod': 'd'}, 'dt_txt': '2020-02-12 00:00:00'}, {'dt': 1581476400, 'main': {'temp': 285.95, 'feels_like': 284.91, 'temp_min': 285.95, 'temp_max': 285.95, 'pressure': 1019, 'sea_level': 1019, 'grnd_level': 1019, 'humidity': 80, 'temp_kf': 0}, 'weather': [{'id': 500, 'main': 'Rain', 'description': 'light rain', 'icon': '10d'}], 'clouds': {'all': 100}, 'wind': {'speed': 1.34, 'deg': 265}, 'rain': {'3h': 0.13}, 'sys': {'pod': 'd'}, 'dt_txt': '2020-02-12 03:00:00'}, {'dt': 1581487200, 'main': {'temp': 285.58, 'feels_like': 284.51, 'temp_min': 285.58, 'temp_max': 285.58, 'pressure': 1017, 'sea_level': 1017, 'grnd_level': 1017, 'humidity': 84, 'temp_kf': 0}, 'weather': [{'id': 804, 'main': 'Clouds', 'description': 'overcast clouds', 'icon': '04d'}], 'clouds': {'all': 100}, 'wind': {'speed': 1.52, 'deg': 262}, 'sys': {'pod': 'd'}, 'dt_txt': '2020-02-12 06:00:00'}, {'dt': 1581498000, 'main': {'temp': 287.73, 'feels_like': 286.55, 'temp_min': 287.73, 'temp_max': 287.73, 'pressure': 1018, 'sea_level': 1018, 'grnd_level': 1017, 'humidity': 76, 'temp_kf': 0}, 'weather': [{'id': 804, 'main': 'Clouds', 'description': 'overcast clouds', 'icon': '04d'}], 'clouds': {'all': 100}, 'wind': {'speed': 1.91, 'deg': 281}, 'sys': {'pod': 'd'}, 'dt_txt': '2020-02-12 09:00:00'}, {'dt': 1581508800, 'main': {'temp': 285.82, 'feels_like': 285.08, 'temp_min': 285.82, 'temp_max': 285.82, 'pressure': 1019, 'sea_level': 1019, 'grnd_level': 1019, 'humidity': 82, 'temp_kf': 0}, 'weather': [{'id': 803, 'main': 'Clouds', 'description': 'broken clouds', 'icon': '04n'}], 'clouds': {'all': 83}, 'wind': {'speed': 1, 'deg': 329}, 'sys': {'pod': 'n'}, 'dt_txt': '2020-02-12 12:00:00'}, {'dt': 1581519600, 'main': {'temp': 284.5, 'feels_like': 283.91, 'temp_min': 284.5, 'temp_max': 284.5, 'pressure': 1020, 'sea_level': 1020, 'grnd_level': 1019, 'humidity': 90, 'temp_kf': 0}, 'weather': [{'id': 801, 'main': 'Clouds', 'description': 'few clouds', 'icon': '02n'}], 'clouds': {'all': 21}, 'wind': {'speed': 0.82, 'deg': 45}, 'sys': {'pod': 'n'}, 'dt_txt': '2020-02-12 15:00:00'}, {'dt': 1581530400, 'main': {'temp': 283.85, 'feels_like': 283.31, 'temp_min': 283.85, 'temp_max': 283.85, 'pressure': 1019, 'sea_level': 1019, 'grnd_level': 1018, 'humidity': 93, 'temp_kf': 0}, 'weather': [{'id': 802, 'main': 'Clouds', 'description': 'scattered clouds', 'icon': '03n'}], 'clouds': {'all': 27}, 'wind': {'speed': 0.69, 'deg': 84}, 'sys': {'pod': 'n'}, 'dt_txt': '2020-02-12 18:00:00'}, {'dt': 1581541200, 'main': {'temp': 283.14, 'feels_like': 281.76, 'temp_min': 283.14, 'temp_max': 283.14, 'pressure': 1018, 'sea_level': 1018, 'grnd_level': 1018, 'humidity': 95, 'temp_kf': 0}, 'weather': [{'id': 801, 'main': 'Clouds', 'description': 'few clouds', 'icon': '02n'}], 'clouds': {'all': 22}, 'wind': {'speed': 1.74, 'deg': 101}, 'sys': {'pod': 'n'}, 'dt_txt': '2020-02-12 21:00:00'}, {'dt': 1581552000, 'main': {'temp': 284.3, 'feels_like': 282.59, 'temp_min': 284.3, 'temp_max': 284.3, 'pressure': 1019, 'sea_level': 1019, 'grnd_level': 1018, 'humidity': 90, 'temp_kf': 0}, 'weather': [{'id': 802, 'main': 'Clouds', 'description': 'scattered clouds', 'icon': '03d'}], 'clouds': {'all': 28}, 'wind': {'speed': 2.35, 'deg': 111}, 'sys': {'pod': 'd'}, 'dt_txt': '2020-02-13 00:00:00'}, {'dt': 1581562800, 'main': {'temp': 288.23, 'feels_like': 285.11, 'temp_min': 288.23, 'temp_max': 288.23, 'pressure': 1018, 'sea_level': 1018, 'grnd_level': 1018, 'humidity': 71, 'temp_kf': 0}, 'weather': [{'id': 801, 'main': 'Clouds', 'description': 'few clouds', 'icon': '02d'}], 'clouds': {'all': 14}, 'wind': {'speed': 4.47, 'deg': 138}, 'sys': {'pod': 'd'}, 'dt_txt': '2020-02-13 03:00:00'}, {'dt': 1581573600, 'main': {'temp': 289.18, 'feels_like': 285.35, 'temp_min': 289.18, 'temp_max': 289.18, 'pressure': 1015, 'sea_level': 1015, 'grnd_level': 1015, 'humidity': 68, 'temp_kf': 0}, 'weather': [{'id': 802, 'main': 'Clouds', 'description': 'scattered clouds', 'icon': '03d'}], 'clouds': {'all': 29}, 'wind': {'speed': 5.58, 'deg': 135}, 'sys': {'pod': 'd'}, 'dt_txt': '2020-02-13 06:00:00'}, {'dt': 1581584400, 'main': {'temp': 286.75, 'feels_like': 283.49, 'temp_min': 286.75, 'temp_max': 286.75, 'pressure': 1013, 'sea_level': 1013, 'grnd_level': 1013, 'humidity': 83, 'temp_kf': 0}, 'weather': [{'id': 804, 'main': 'Clouds', 'description': 'overcast clouds', 'icon': '04d'}], 'clouds': {'all': 100}, 'wind': {'speed': 5.02, 'deg': 130}, 'sys': {'pod': 'd'}, 'dt_txt': '2020-02-13 09:00:00'}, {'dt': 1581595200, 'main': {'temp': 286.18, 'feels_like': 283.3, 'temp_min': 286.18, 'temp_max': 286.18, 'pressure': 1012, 'sea_level': 1012, 'grnd_level': 1011, 'humidity': 92, 'temp_kf': 0}, 'weather': [{'id': 501, 'main': 'Rain', 'description': 'moderate rain', 'icon': '10n'}], 'clouds': {'all': 100}, 'wind': {'speed': 4.89, 'deg': 103}, 'rain': {'3h': 3.63}, 'sys': {'pod': 'n'}, 'dt_txt': '2020-02-13 12:00:00'}, {'dt': 1581606000, 'main': {'temp': 286.84, 'feels_like': 284.76, 'temp_min': 286.84, 'temp_max': 286.84, 'pressure': 1010, 'sea_level': 1010, 'grnd_level': 1009, 'humidity': 96, 'temp_kf': 0}, 'weather': [{'id': 501, 'main': 'Rain', 'description': 'moderate rain', 'icon': '10n'}], 'clouds': {'all': 100}, 'wind': {'speed': 4.34, 'deg': 134}, 'rain': {'3h': 5}, 'sys': {'pod': 'n'}, 'dt_txt': '2020-02-13 15:00:00'}, {'dt': 1581616800, 'main': {'temp': 286.75, 'feels_like': 286.64, 'temp_min': 286.75, 'temp_max': 286.75, 'pressure': 1008, 'sea_level': 1008, 'grnd_level': 1007, 'humidity': 98, 'temp_kf': 0}, 'weather': [{'id': 501, 'main': 'Rain', 'description': 'moderate rain', 'icon': '10n'}], 'clouds': {'all': 100}, 'wind': {'speed': 1.62, 'deg': 243}, 'rain': {'3h': 4.38}, 'sys': {'pod': 'n'}, 'dt_txt': '2020-02-13 18:00:00'}, {'dt': 1581627600, 'main': {'temp': 285.14, 'feels_like': 282.73, 'temp_min': 285.14, 'temp_max': 285.14, 'pressure': 1008, 'sea_level': 1008, 'grnd_level': 1007, 'humidity': 87, 'temp_kf': 0}, 'weather': [{'id': 804, 'main': 'Clouds', 'description': 'overcast clouds', 'icon': '04n'}], 'clouds': {'all': 100}, 'wind': {'speed': 3.46, 'deg': 353}, 'sys': {'pod': 'n'}, 'dt_txt': '2020-02-13 21:00:00'}, {'dt': 1581638400, 'main': {'temp': 285.4, 'feels_like': 282.76, 'temp_min': 285.4, 'temp_max': 285.4, 'pressure': 1011, 'sea_level': 1011, 'grnd_level': 1011, 'humidity': 86, 'temp_kf': 0}, 'weather': [{'id': 804, 'main': 'Clouds', 'description': 'overcast clouds', 'icon': '04d'}], 'clouds': {'all': 100}, 'wind': {'speed': 3.83, 'deg': 346}, 'sys': {'pod': 'd'}, 'dt_txt': '2020-02-14 00:00:00'}, {'dt': 1581649200, 'main': {'temp': 288.62, 'feels_like': 286.15, 'temp_min': 288.62, 'temp_max': 288.62, 'pressure': 1015, 'sea_level': 1015, 'grnd_level': 1014, 'humidity': 67, 'temp_kf': 0}, 'weather': [{'id': 804, 'main': 'Clouds', 'description': 'overcast clouds', 'icon': '04d'}], 'clouds': {'all': 100}, 'wind': {'speed': 3.35, 'deg': 23}, 'sys': {'pod': 'd'}, 'dt_txt': '2020-02-14 03:00:00'}, {'dt': 1581660000, 'main': {'temp': 289.71, 'feels_like': 287.42, 'temp_min': 289.71, 'temp_max': 289.71, 'pressure': 1015, 'sea_level': 1015, 'grnd_level': 1014, 'humidity': 58, 'temp_kf': 0}, 'weather': [{'id': 804, 'main': 'Clouds', 'description': 'overcast clouds', 'icon': '04d'}], 'clouds': {'all': 100}, 'wind': {'speed': 2.7, 'deg': 37}, 'sys': {'pod': 'd'}, 'dt_txt': '2020-02-14 06:00:00'}, {'dt': 1581670800, 'main': {'temp': 288.5, 'feels_like': 285.7, 'temp_min': 288.5, 'temp_max': 288.5, 'pressure': 1017, 'sea_level': 1017, 'grnd_level': 1016, 'humidity': 63, 'temp_kf': 0}, 'weather': [{'id': 802, 'main': 'Clouds', 'description': 'scattered clouds', 'icon': '03d'}], 'clouds': {'all': 34}, 'wind': {'speed': 3.45, 'deg': 64}, 'sys': {'pod': 'd'}, 'dt_txt': '2020-02-14 09:00:00'}]\n",
      "city:  {'id': 1796236, 'name': 'Shanghai', 'coord': {'lat': 31.2222, 'lon': 121.4581}, 'country': 'CN', 'population': 14608512, 'timezone': 28800, 'sunrise': 1581201695, 'sunset': 1581240912}\n"
     ]
    }
   ],
   "source": [
    "for k in f_r.keys():\n",
    "    print(k + ': ', f_r[k])"
   ]
  },
  {
   "cell_type": "code",
   "execution_count": 45,
   "metadata": {},
   "outputs": [
    {
     "data": {
      "text/plain": [
       "{'dt': 1581357600,\n",
       " 'main': {'temp': 283.22,\n",
       "  'feels_like': 278.25,\n",
       "  'temp_min': 283.22,\n",
       "  'temp_max': 283.22,\n",
       "  'pressure': 1023,\n",
       "  'sea_level': 1023,\n",
       "  'grnd_level': 1023,\n",
       "  'humidity': 63,\n",
       "  'temp_kf': 0},\n",
       " 'weather': [{'id': 804,\n",
       "   'main': 'Clouds',\n",
       "   'description': 'overcast clouds',\n",
       "   'icon': '04n'}],\n",
       " 'clouds': {'all': 100},\n",
       " 'wind': {'speed': 5.05, 'deg': 159},\n",
       " 'sys': {'pod': 'n'},\n",
       " 'dt_txt': '2020-02-10 18:00:00'}"
      ]
     },
     "execution_count": 45,
     "metadata": {},
     "output_type": "execute_result"
    }
   ],
   "source": [
    "f_r['list'][10]"
   ]
  },
  {
   "cell_type": "code",
   "execution_count": null,
   "metadata": {},
   "outputs": [],
   "source": []
  }
 ],
 "metadata": {
  "kernelspec": {
   "display_name": "Python 3",
   "language": "python",
   "name": "python3"
  },
  "language_info": {
   "codemirror_mode": {
    "name": "ipython",
    "version": 3
   },
   "file_extension": ".py",
   "mimetype": "text/x-python",
   "name": "python",
   "nbconvert_exporter": "python",
   "pygments_lexer": "ipython3",
   "version": "3.7.5"
  }
 },
 "nbformat": 4,
 "nbformat_minor": 2
}
