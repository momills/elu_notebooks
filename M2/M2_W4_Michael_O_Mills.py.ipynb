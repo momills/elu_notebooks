{
 "cells": [
  {
   "cell_type": "markdown",
   "metadata": {},
   "source": [
    "# Transforming Data Structures\n",
    "### _by Michael Odartei Mills_\n",
    "**Question** \n",
    "\n",
    "Most of the time you will work on reshaping, modifying and transforming data structures in your data science projects. In this week’s assignment you are expected to do the following to transform your data.\n",
    "\n",
    " \n",
    "\n",
    "Step 1: Write a function to transform a “hash/dictionary” into a list\n",
    "\n",
    "Step 2: Write a function to transform a “hash/dictionary” into a tuple\n",
    "\n",
    "Step 3: Write a function to transform a “tuple” into a list\n",
    "\n",
    "Step 4: Write a function to transform a “tuple” into a “hash/dictionary”\n",
    "\n",
    " \n",
    "\n",
    "Use example data structures that you can create based on your current level of knowledge. Make sure you execute the functions to show that they work correctly. Submit your solution on Campus as a Jupyter notebook."
   ]
  },
  {
   "cell_type": "code",
   "execution_count": 1,
   "metadata": {},
   "outputs": [],
   "source": [
    "#my_dict = students_dict in previous assignment\n",
    "my_dict = {'MDS1901001':{\n",
    "                'Name':'Michael Odartei Mills',\n",
    "                'Degree': 'Master of Data Science',\n",
    "                'StartYear': '2019',\n",
    "                'Courses':{\n",
    "                    'Alper Utku':['Leadership 1', 'Leadership 2'],\n",
    "                    'Ricardo Periera':['Intro to Jupyter Notebook', \n",
    "                                       'Advanced Python', 'Python for Data Science']}\n",
    "                },\n",
    "            'MCS1802001':{\n",
    "                'Name':'Kwame Nyamekye Jnr',\n",
    "                'Degree': 'Master of Cyber Security',\n",
    "                'StartYear': '2018',\n",
    "                'Courses':{\n",
    "                    'Alper Utku':['Leadership 1', 'Team Management'],\n",
    "                    'John Snow':['Intro to Hacking', 'Intrusion Prevention and Detection', \n",
    "                                 'White Hacking'],\n",
    "                    'Simon Matthews':['Cyber Law 1', 'Cyber Law 2', 'IP Laws']}\n",
    "                },\n",
    "            'MDS1901002':{\n",
    "                'Name':'McAndrew Saad',\n",
    "                'Degree': 'Master of Data Science',\n",
    "                'StartYear': '2019',\n",
    "                'Courses':{\n",
    "                    'Alper Utku':['Leadership 1', 'Leadership 2'],\n",
    "                    'Ricardo Periera':['Intro to Jupyter Notebook', 'Advanced Python', \n",
    "                                       'Python for Data Science']}\n",
    "                }\n",
    "   }"
   ]
  },
  {
   "cell_type": "code",
   "execution_count": 2,
   "metadata": {},
   "outputs": [],
   "source": [
    "#my_tuple is student IDs from students_dict in previous assignment\n",
    "my_tuple = ('MDS1901001', 'MCS1802001', 'MDS1901002')"
   ]
  },
  {
   "cell_type": "markdown",
   "metadata": {},
   "source": [
    "#### Step 1: Write a function to transform a “hash/dictionary” into a list"
   ]
  },
  {
   "cell_type": "code",
   "execution_count": 3,
   "metadata": {},
   "outputs": [],
   "source": [
    "def dict_to_list(input_dict):\n",
    "    '''this funtion transforms any dictionary to a \n",
    "    list of keys and values \n",
    "    {} -> []'''\n",
    "    keys = []\n",
    "    values = []\n",
    "    for key, value in input_dict.items():\n",
    "        keys.append(key)\n",
    "        values.append(value)\n",
    "    return [keys, values]"
   ]
  },
  {
   "cell_type": "code",
   "execution_count": 4,
   "metadata": {},
   "outputs": [
    {
     "data": {
      "text/plain": [
       "[['MDS1901001', 'MCS1802001', 'MDS1901002'],\n",
       " [{'Name': 'Michael Odartei Mills',\n",
       "   'Degree': 'Master of Data Science',\n",
       "   'StartYear': '2019',\n",
       "   'Courses': {'Alper Utku': ['Leadership 1', 'Leadership 2'],\n",
       "    'Ricardo Periera': ['Intro to Jupyter Notebook',\n",
       "     'Advanced Python',\n",
       "     'Python for Data Science']}},\n",
       "  {'Name': 'Kwame Nyamekye Jnr',\n",
       "   'Degree': 'Master of Cyber Security',\n",
       "   'StartYear': '2018',\n",
       "   'Courses': {'Alper Utku': ['Leadership 1', 'Team Management'],\n",
       "    'John Snow': ['Intro to Hacking',\n",
       "     'Intrusion Prevention and Detection',\n",
       "     'White Hacking'],\n",
       "    'Simon Matthews': ['Cyber Law 1', 'Cyber Law 2', 'IP Laws']}},\n",
       "  {'Name': 'McAndrew Saad',\n",
       "   'Degree': 'Master of Data Science',\n",
       "   'StartYear': '2019',\n",
       "   'Courses': {'Alper Utku': ['Leadership 1', 'Leadership 2'],\n",
       "    'Ricardo Periera': ['Intro to Jupyter Notebook',\n",
       "     'Advanced Python',\n",
       "     'Python for Data Science']}}]]"
      ]
     },
     "execution_count": 4,
     "metadata": {},
     "output_type": "execute_result"
    }
   ],
   "source": [
    "dict_to_list(my_dict)\n",
    "#type(dict_to_list(my_dict))"
   ]
  },
  {
   "cell_type": "markdown",
   "metadata": {},
   "source": [
    "#### Step 2: Write a function to transform a “hash/dictionary” into a tuple"
   ]
  },
  {
   "cell_type": "code",
   "execution_count": 5,
   "metadata": {},
   "outputs": [],
   "source": [
    "def dict_to_tuple(input_dict):\n",
    "    '''this funtion transforms any dictionary to a \n",
    "    tuple of keys and values\n",
    "    {} -> ()'''\n",
    "    keys = []\n",
    "    values = []\n",
    "    for key, value in input_dict.items():\n",
    "        keys.append(key)\n",
    "        values.append(value)\n",
    "    return tuple(keys), tuple(values)"
   ]
  },
  {
   "cell_type": "code",
   "execution_count": 6,
   "metadata": {},
   "outputs": [
    {
     "data": {
      "text/plain": [
       "(('MDS1901001', 'MCS1802001', 'MDS1901002'),\n",
       " ({'Name': 'Michael Odartei Mills',\n",
       "   'Degree': 'Master of Data Science',\n",
       "   'StartYear': '2019',\n",
       "   'Courses': {'Alper Utku': ['Leadership 1', 'Leadership 2'],\n",
       "    'Ricardo Periera': ['Intro to Jupyter Notebook',\n",
       "     'Advanced Python',\n",
       "     'Python for Data Science']}},\n",
       "  {'Name': 'Kwame Nyamekye Jnr',\n",
       "   'Degree': 'Master of Cyber Security',\n",
       "   'StartYear': '2018',\n",
       "   'Courses': {'Alper Utku': ['Leadership 1', 'Team Management'],\n",
       "    'John Snow': ['Intro to Hacking',\n",
       "     'Intrusion Prevention and Detection',\n",
       "     'White Hacking'],\n",
       "    'Simon Matthews': ['Cyber Law 1', 'Cyber Law 2', 'IP Laws']}},\n",
       "  {'Name': 'McAndrew Saad',\n",
       "   'Degree': 'Master of Data Science',\n",
       "   'StartYear': '2019',\n",
       "   'Courses': {'Alper Utku': ['Leadership 1', 'Leadership 2'],\n",
       "    'Ricardo Periera': ['Intro to Jupyter Notebook',\n",
       "     'Advanced Python',\n",
       "     'Python for Data Science']}}))"
      ]
     },
     "execution_count": 6,
     "metadata": {},
     "output_type": "execute_result"
    }
   ],
   "source": [
    "dict_to_tuple(my_dict)\n",
    "#type(dict_to_tuple(my_dict))"
   ]
  },
  {
   "cell_type": "markdown",
   "metadata": {},
   "source": [
    "#### Step 3: Write a function to transform a “tuple” into a list"
   ]
  },
  {
   "cell_type": "code",
   "execution_count": 7,
   "metadata": {},
   "outputs": [],
   "source": [
    "def tuple_to_list(input_tuple):\n",
    "    '''this funtion transforms any tuple to a \n",
    "    list \n",
    "    () -> []'''\n",
    "    list_ = []\n",
    "    for value in input_tuple:\n",
    "        list_.append(value)\n",
    "    return list_"
   ]
  },
  {
   "cell_type": "code",
   "execution_count": 8,
   "metadata": {},
   "outputs": [
    {
     "data": {
      "text/plain": [
       "['MDS1901001', 'MCS1802001', 'MDS1901002']"
      ]
     },
     "execution_count": 8,
     "metadata": {},
     "output_type": "execute_result"
    }
   ],
   "source": [
    "tuple_to_list(my_tuple)"
   ]
  },
  {
   "cell_type": "markdown",
   "metadata": {},
   "source": [
    "#### Step 4: Write a function to transform a “tuple” into a “hash/dictionary”"
   ]
  },
  {
   "cell_type": "code",
   "execution_count": 9,
   "metadata": {},
   "outputs": [],
   "source": [
    "def tuple_to_dict(input_tuple):\n",
    "    '''this function transforms any tuple to a \n",
    "    dictionary\n",
    "    () -> {}'''\n",
    "    dict_ = {}\n",
    "    for index,value in enumerate(input_tuple):\n",
    "        dict_[index] = value\n",
    "    return dict_"
   ]
  },
  {
   "cell_type": "code",
   "execution_count": 10,
   "metadata": {},
   "outputs": [
    {
     "data": {
      "text/plain": [
       "{0: 'MDS1901001', 1: 'MCS1802001', 2: 'MDS1901002'}"
      ]
     },
     "execution_count": 10,
     "metadata": {},
     "output_type": "execute_result"
    }
   ],
   "source": [
    "tuple_to_dict(my_tuple)"
   ]
  }
 ],
 "metadata": {
  "kernelspec": {
   "display_name": "Python 3",
   "language": "python",
   "name": "python3"
  },
  "language_info": {
   "codemirror_mode": {
    "name": "ipython",
    "version": 3
   },
   "file_extension": ".py",
   "mimetype": "text/x-python",
   "name": "python",
   "nbconvert_exporter": "python",
   "pygments_lexer": "ipython3",
   "version": "3.7.5"
  }
 },
 "nbformat": 4,
 "nbformat_minor": 2
}
