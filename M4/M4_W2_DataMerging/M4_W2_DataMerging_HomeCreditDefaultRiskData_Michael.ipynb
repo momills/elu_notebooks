{
 "cells": [
  {
   "cell_type": "markdown",
   "metadata": {},
   "source": [
    "# Data Merging: Home Credit Default Risk\n",
    "\n",
    "### by Michael\n",
    "\n",
    "Step 1: Download all files with data from: https://www.kaggle.com/c/home-credit-default-risk/data\n",
    "\n",
    "Step 2: Using the database scheme that shows how tables are related to each other do the following:"
   ]
  },
  {
   "cell_type": "markdown",
   "metadata": {},
   "source": [
    "![title](m4_w2.png)"
   ]
  },
  {
   "cell_type": "code",
   "execution_count": 1,
   "metadata": {},
   "outputs": [],
   "source": [
    "import numpy as np\n",
    "import pandas as pd\n",
    "import glob"
   ]
  },
  {
   "cell_type": "code",
   "execution_count": 2,
   "metadata": {
    "scrolled": true
   },
   "outputs": [
    {
     "name": "stdout",
     "output_type": "stream",
     "text": [
      "['application_test.csv', 'application_train.csv', 'bureau.csv', 'bureau_balance.csv', 'credit_card_balance.csv', 'HomeCredit_columns_description.csv', 'installments_payments.csv', 'POS_CASH_balance.csv', 'previous_application.csv', 'sample_submission.csv']\n"
     ]
    }
   ],
   "source": [
    "csv_files = glob.glob('*.csv')\n",
    "print(csv_files)"
   ]
  },
  {
   "cell_type": "markdown",
   "metadata": {},
   "source": [
    "## 1. calculate the average loan size for all loan applicants from the application_train table"
   ]
  },
  {
   "cell_type": "markdown",
   "metadata": {},
   "source": [
    "Applicants could have either acquired loans from Home Credit or other lenders(according to the Bureau). Therefore, an applicant may have two average loan size..."
   ]
  },
  {
   "cell_type": "code",
   "execution_count": 3,
   "metadata": {},
   "outputs": [],
   "source": [
    "appl = pd.read_csv(csv_files[1], usecols=[0])\n",
    "bureau = pd.read_csv(csv_files[2])\n",
    "prev_app = pd.read_csv(csv_files[-2], usecols=['SK_ID_CURR', 'AMT_CREDIT', 'NAME_CONTRACT_STATUS'])"
   ]
  },
  {
   "cell_type": "code",
   "execution_count": 4,
   "metadata": {},
   "outputs": [
    {
     "data": {
      "text/plain": [
       "True"
      ]
     },
     "execution_count": 4,
     "metadata": {},
     "output_type": "execute_result"
    }
   ],
   "source": [
    "appl.SK_ID_CURR.is_unique"
   ]
  },
  {
   "cell_type": "code",
   "execution_count": 5,
   "metadata": {},
   "outputs": [],
   "source": [
    "appl_bureau = pd.merge(appl, bureau, on='SK_ID_CURR')"
   ]
  },
  {
   "cell_type": "code",
   "execution_count": 6,
   "metadata": {},
   "outputs": [
    {
     "data": {
      "text/plain": [
       "SK_ID_CURR\n",
       "100002    108131.945625\n",
       "100003    254350.125000\n",
       "100004     94518.900000\n",
       "100007    146250.000000\n",
       "100008    156148.500000\n",
       "              ...      \n",
       "456247    471405.681818\n",
       "456249    284142.973846\n",
       "456253    990000.000000\n",
       "456254     45000.000000\n",
       "456255    345629.045455\n",
       "Name: AMT_CREDIT_SUM, Length: 263491, dtype: float64"
      ]
     },
     "execution_count": 6,
     "metadata": {},
     "output_type": "execute_result"
    }
   ],
   "source": [
    "#Average for each applicant according to the bureau\n",
    "avg_bureau_loan = appl_bureau.groupby('SK_ID_CURR').AMT_CREDIT_SUM.mean()\n",
    "avg_bureau_loan"
   ]
  },
  {
   "cell_type": "code",
   "execution_count": 7,
   "metadata": {},
   "outputs": [],
   "source": [
    "appl_prev_app = pd.merge(appl, prev_app, on='SK_ID_CURR')"
   ]
  },
  {
   "cell_type": "code",
   "execution_count": 8,
   "metadata": {},
   "outputs": [
    {
     "data": {
      "text/plain": [
       "SK_ID_CURR\n",
       "100002    179055.00\n",
       "100003    484191.00\n",
       "100004     20106.00\n",
       "100006    291695.50\n",
       "100007    166638.75\n",
       "            ...    \n",
       "456251     40455.00\n",
       "456252     56821.50\n",
       "456253     20625.75\n",
       "456254    134439.75\n",
       "456255    424431.00\n",
       "Name: AMT_CREDIT, Length: 291057, dtype: float64"
      ]
     },
     "execution_count": 8,
     "metadata": {},
     "output_type": "execute_result"
    }
   ],
   "source": [
    "#Average for each applicant according to previous applications at Home Credit ONLY\n",
    "avg_prev_loan = appl_prev_app.groupby('SK_ID_CURR').AMT_CREDIT.mean()\n",
    "avg_prev_loan"
   ]
  },
  {
   "cell_type": "markdown",
   "metadata": {},
   "source": [
    "## 2. calculate how many applicants from the application_train table were previously rejected"
   ]
  },
  {
   "cell_type": "raw",
   "metadata": {},
   "source": [
    "Merge on IDs from appl and check from prev_app, select those who were refused"
   ]
  },
  {
   "cell_type": "code",
   "execution_count": 9,
   "metadata": {},
   "outputs": [],
   "source": [
    "appl_prev_app = pd.merge(prev_app,appl, on='SK_ID_CURR', how='left')"
   ]
  },
  {
   "cell_type": "code",
   "execution_count": 10,
   "metadata": {},
   "outputs": [],
   "source": [
    "prev_rejected = appl_prev_app[appl_prev_app['NAME_CONTRACT_STATUS']=='Refused']"
   ]
  },
  {
   "cell_type": "code",
   "execution_count": 11,
   "metadata": {},
   "outputs": [
    {
     "data": {
      "text/plain": [
       "290678"
      ]
     },
     "execution_count": 11,
     "metadata": {},
     "output_type": "execute_result"
    }
   ],
   "source": [
    "prev_rejected.shape[0]"
   ]
  },
  {
   "cell_type": "markdown",
   "metadata": {},
   "source": [
    "## 3. calculate the average credit card balance for the applicants from the application_train table"
   ]
  },
  {
   "cell_type": "markdown",
   "metadata": {},
   "source": [
    "Merge on IDs from appl and credit card balance, then average balance for each applicant"
   ]
  },
  {
   "cell_type": "code",
   "execution_count": 12,
   "metadata": {},
   "outputs": [],
   "source": [
    "credit_cards = pd.read_csv(csv_files[4])\n",
    "credit_appl = pd.merge(appl, credit_cards, on='SK_ID_CURR')"
   ]
  },
  {
   "cell_type": "code",
   "execution_count": 13,
   "metadata": {},
   "outputs": [
    {
     "data": {
      "text/plain": [
       "SK_ID_CURR\n",
       "100006         0.000000\n",
       "100011     54482.111149\n",
       "100021         0.000000\n",
       "100023         0.000000\n",
       "100036         0.000000\n",
       "              ...      \n",
       "456242    148232.328750\n",
       "456244    131834.730732\n",
       "456246     13136.731875\n",
       "456247     23216.396211\n",
       "456248         0.000000\n",
       "Name: AMT_BALANCE, Length: 86905, dtype: float64"
      ]
     },
     "execution_count": 13,
     "metadata": {},
     "output_type": "execute_result"
    }
   ],
   "source": [
    "avg_credit_bal = credit_appl.groupby('SK_ID_CURR')['AMT_BALANCE'].mean()\n",
    "avg_credit_bal"
   ]
  }
 ],
 "metadata": {
  "kernelspec": {
   "display_name": "Python 3",
   "language": "python",
   "name": "python3"
  },
  "language_info": {
   "codemirror_mode": {
    "name": "ipython",
    "version": 3
   },
   "file_extension": ".py",
   "mimetype": "text/x-python",
   "name": "python",
   "nbconvert_exporter": "python",
   "pygments_lexer": "ipython3",
   "version": "3.7.5"
  }
 },
 "nbformat": 4,
 "nbformat_minor": 2
}
