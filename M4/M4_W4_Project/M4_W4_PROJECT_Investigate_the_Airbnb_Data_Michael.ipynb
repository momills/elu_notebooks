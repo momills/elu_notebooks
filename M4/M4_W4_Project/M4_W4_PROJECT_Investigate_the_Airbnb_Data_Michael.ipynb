{
 "cells": [
  {
   "cell_type": "markdown",
   "metadata": {},
   "source": [
    "# M4 - WEEK 4 | PROJECT: Investigate the Airbnb Data\n",
    "\n",
    "**Context**\n",
    "\n",
    "Airbnb has successfully disrupted the traditional hospitality industry as more and more travelers decide to use Airbnb as their primary accommodation provider. Since its beginning in 2008, Airbnb has seen an enormous growth, with the number of rentals listed on its website growing exponentially each year. In Germany, no city is more popular than Berlin. That implies that Berlin is one of the hottest markets for Airbnb in Europe, with over 22,552 listings as of November 2018.\n",
    "\n",
    "Dataset: https://www.kaggle.com/brittabettendorf/berlin-airbnb-data\n",
    "\n",
    "1- Come up with an original data science use case/question (You can investigate the data from the perspective of a listings owner, customer or Airbnb stuff etc. It depends on what you want to explore and find out in the data)\n",
    "\n",
    "2- Prepare the data based on your case/question\n",
    "\n",
    "3- Analyse and explore your data \n",
    "\n",
    "4- Create a presentation of your work (in ppt or another presentation tool you like) and submit it along with your code in Jupyter notebook.\n"
   ]
  },
  {
   "cell_type": "code",
   "execution_count": null,
   "metadata": {},
   "outputs": [],
   "source": []
  },
  {
   "cell_type": "code",
   "execution_count": null,
   "metadata": {},
   "outputs": [],
   "source": []
  }
 ],
 "metadata": {
  "kernelspec": {
   "display_name": "Python 3",
   "language": "python",
   "name": "python3"
  },
  "language_info": {
   "codemirror_mode": {
    "name": "ipython",
    "version": 3
   },
   "file_extension": ".py",
   "mimetype": "text/x-python",
   "name": "python",
   "nbconvert_exporter": "python",
   "pygments_lexer": "ipython3",
   "version": "3.7.5"
  }
 },
 "nbformat": 4,
 "nbformat_minor": 2
}
